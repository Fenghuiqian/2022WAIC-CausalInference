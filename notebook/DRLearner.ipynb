{
 "cells": [
  {
   "cell_type": "code",
   "execution_count": 1,
   "id": "361afb85",
   "metadata": {
    "scrolled": false
   },
   "outputs": [],
   "source": [
    "import pandas as pd\n",
    "import numpy as np\n",
    "import warnings\n",
    "warnings.filterwarnings('ignore')\n",
    "from sklearn.preprocessing import OrdinalEncoder, StandardScaler\n",
    "from sklearn.ensemble import RandomForestClassifier, RandomForestRegressor\n",
    "import lightgbm as lgb\n",
    "from econml.sklearn_extensions.linear_model import WeightedLasso\n",
    "import matplotlib.pyplot as plt\n",
    "from sklearn.model_selection import GridSearchCV\n",
    "from skopt import BayesSearchCV\n",
    "from skopt.space import Real, Categorical, Integer\n",
    "from sklearn.model_selection import train_test_split\n",
    "np.random.seed(2023) \n",
    "import seaborn as sns\n",
    "from sklearn.metrics import r2_score, mean_squared_error\n",
    "from sklearn.preprocessing import OneHotEncoder, LabelEncoder\n",
    "import os\n",
    "from joblib import dump, load \n",
    "from econml.orf import DMLOrthoForest \n",
    "from econml.dr import DRLearner, ForestDRLearner \n",
    "from sklearn.ensemble import GradientBoostingRegressor "
   ]
  },
  {
   "cell_type": "code",
   "execution_count": null,
   "id": "0070f7b7",
   "metadata": {},
   "outputs": [],
   "source": []
  },
  {
   "cell_type": "code",
   "execution_count": null,
   "id": "a88e472a",
   "metadata": {},
   "outputs": [],
   "source": []
  },
  {
   "cell_type": "code",
   "execution_count": 2,
   "id": "33e3cf5f",
   "metadata": {},
   "outputs": [],
   "source": [
    "def calc_score01(train_t1, test_data_t1):\n",
    "    trn = train_t1.reshape(-1, 1)\n",
    "    trn = pd.DataFrame(trn, columns=['effect1'])\n",
    "    tst = pd.DataFrame({'effect1': test_data_t1.reshape(-1)}) \n",
    "    trn_tst = pd.concat([trn, tst], axis=0, ignore_index=True) \n",
    "    target = pd.read_csv('./dataset/data/target.csv')\n",
    "    target = target.reset_index(drop=True)\n",
    "    result = pd.concat([target, trn_tst], axis=1) \n",
    "    def calc_metric(result):\n",
    "        r = np.sqrt(np.sum((result.ce_1 - result.effect1)**2)/result.shape[0])/result.ce_1.mean() \n",
    "        return r \n",
    "    return calc_metric(result) \n",
    "\n",
    "def calc_score02(train_t1, test_data_t1):\n",
    "    trn = train_t1.reshape(-1, 1)\n",
    "    trn = pd.DataFrame(trn, columns=['effect1'])\n",
    "    tst = pd.DataFrame({'effect1': test_data_t1.reshape(-1)}) \n",
    "    trn_tst = pd.concat([trn, tst], axis=0, ignore_index=True) \n",
    "    target = pd.read_csv('./dataset/data/target.csv')\n",
    "    target = target.reset_index(drop=True)\n",
    "    result = pd.concat([target, trn_tst], axis=1) \n",
    "    def calc_metric(result):\n",
    "        r = np.sqrt(np.sum((result.ce_2 - result.effect1)**2)/result.shape[0])/result.ce_2.mean() \n",
    "        return r \n",
    "    return calc_metric(result) \n",
    "\n",
    "def calc_score(pred01, pred02):\n",
    "    result = pd.DataFrame(np.concatenate((pred01.reshape(-1, 1), pred02.reshape(-1, 1)), axis=1), \n",
    "                    columns=['pred01', 'pred02'])\n",
    "    target = pd.read_csv('./dataset/data/target.csv')\n",
    "    result = pd.concat([target, result], axis=1)\n",
    "    def calc_metric(result):\n",
    "        r = np.sqrt(np.sum((result.ce_1 - result.pred01)**2)/result.shape[0])/result.ce_1.mean() + \\\n",
    "            np.sqrt(np.sum((result.ce_2 - result.pred02)**2)/result.shape[0])/result.ce_2.mean()\n",
    "        return r \n",
    "    return calc_metric(result) \n",
    "def bayesGridSearchCVParams(X, Y, objective='regression'):\n",
    "    \"\"\" \n",
    "    X, Y dtype: int, float, category\n",
    "    objective:  regression: 传统的均方误差回归。\n",
    "                regression_l1: 使用L1损失的回归，也称为 Mean Absolute Error (MAE)。\n",
    "                huber: 使用Huber损失的回归，这是均方误差和绝对误差的结合，特别适用于有异常值的情况。\n",
    "                fair: 使用Fair损失的回归，这也是另一种对异常值鲁棒的损失函数。\n",
    "\n",
    "                'binary', \n",
    "                'multiclass'\n",
    "    model: lgbm\n",
    "    \"\"\" \n",
    "    if Y[Y.columns[0]].dtype in (float, int):\n",
    "        y_type = 'regression'\n",
    "    elif Y[Y.columns[0]].unique().shape[0]==2:\n",
    "        y_type = 'binary'\n",
    "    elif Y[Y.columns[0]].unique().shape[0] > 2:\n",
    "        y_type = 'multiclass'\n",
    "    else:\n",
    "        raise ValueError('确认Y的类别数')\n",
    "    print(y_type) \n",
    "    if objective != y_type:\n",
    "        raise ValueError('确认Y的类型')\n",
    "    # grid \n",
    "    if y_type in ('multiclass', 'binary'): \n",
    "        params = {'boosting_type': 'gbdt', 'objective': y_type,\n",
    "                'class_weight': 'balanced', 'n_jobs': -1} \n",
    "        estimator = lgb.LGBMClassifier(**params) \n",
    "        param_grid = {'learning_rate': Real(0.01, 0.05), \n",
    "                      'n_estimators': Integer(200, 2000),\n",
    "                      'num_leaves': Integer(7, 255), \n",
    "                      'min_child_samples': Integer(1, 11), \n",
    "                      'reg_alpha': Real(0.0, 0.1),\n",
    "                      'reg_lambda': Real(0, 0.1), \n",
    "                      'seed': Categorical([42])} \n",
    "        scoring = 'roc_auc'\n",
    "    else:\n",
    "        params = {'boosting_type': 'gbdt',  'n_jobs': -1}\n",
    "        estimator = lgb.LGBMRegressor(**params) \n",
    "        param_grid = {'objective': Categorical(['regression', 'regression_l1', 'huber', 'fair']),\n",
    "                      'learning_rate': Real(0.01, 0.05), \n",
    "                      'n_estimators': Integer(200, 2000),\n",
    "                      'num_leaves': Integer(7, 255),  \n",
    "                      'min_child_samples':Integer(1, 20),\n",
    "                      'reg_alpha': Real(0.0, 0.1),\n",
    "                      'reg_lambda': Real(0, 0.1), \n",
    "                      'seed': Categorical([42])} \n",
    "        scoring = 'neg_root_mean_squared_error' # 或 'r2'\n",
    "    # search \n",
    "    grid = BayesSearchCV(estimator, param_grid, \n",
    "                         n_iter=300,\n",
    "                         cv=4, scoring = scoring, n_jobs=-1)\n",
    "    grid.fit(X, Y) \n",
    "    params.update(grid.best_params_)\n",
    "    print('Best parameters found by grid search are:', params)\n",
    "    return params "
   ]
  },
  {
   "cell_type": "code",
   "execution_count": 3,
   "id": "8e7ed35a",
   "metadata": {},
   "outputs": [],
   "source": [
    "X = pd.read_csv('./dataset/data/best/X.csv', index_col=0)\n",
    "X_01 = pd.read_csv('./dataset/data/best/X_01.csv', index_col=0)\n",
    "X_02 = pd.read_csv('./dataset/data/best/X_02.csv', index_col=0)\n",
    "test = pd.read_csv('./dataset/data/best/test.csv', index_col=0)\n",
    "\n",
    "T = pd.read_csv('./dataset/data/best/T.csv')\n",
    "Y = pd.read_csv('./dataset/data/best/Y.csv') \n",
    "T = T.astype(str).astype('category') \n",
    "\n",
    "X_T = pd.concat([X, T], axis=1) \n",
    "X_T_Y = pd.concat([X_T, Y], axis=1) \n",
    "\n",
    "T_01 = X_T_Y.loc[X_T_Y['T'].isin(['0', '1'])][['T']]\n",
    "Y_01 = X_T_Y.loc[X_T_Y['T'].isin(['0', '1'])][['Y']]\n",
    "\n",
    "T_02 = X_T_Y.loc[X_T_Y['T'].isin(['0', '2'])][['T']]\n",
    "Y_02 = X_T_Y.loc[X_T_Y['T'].isin(['0', '2'])][['Y']]\n",
    "\n",
    "T_02['T'] = T_02['T'].replace({'2': '1'}) \n",
    "\n",
    "X_T_01 = pd.concat([X_01, T_01], axis=1)\n",
    "X_T_02 = pd.concat([X_02, T_02], axis=1) "
   ]
  },
  {
   "cell_type": "code",
   "execution_count": 4,
   "id": "d391f5c6",
   "metadata": {},
   "outputs": [],
   "source": [
    "T_01['T'] = T_01['T'].astype(str).astype('category')\n",
    "T_02['T'] = T_02['T'].astype(str).astype('category') "
   ]
  },
  {
   "cell_type": "code",
   "execution_count": 20,
   "id": "7e0526ce",
   "metadata": {},
   "outputs": [],
   "source": [
    "# params_XT01 = bayesGridSearchCVParams(X_01, T_01, objective='binary')\n",
    "params_XT01 = {'boosting_type': 'gbdt', 'objective': 'binary', 'class_weight': 'balanced', 'n_jobs': -1, 'learning_rate': 0.05, 'min_child_samples': 11,  'n_estimators': 600, 'num_leaves': 7,  'reg_alpha': 0.01,  'reg_lambda': 0.1, 'seed': 42} \n",
    "mdl_t01 = lgb.LGBMClassifier(**params_XT01) "
   ]
  },
  {
   "cell_type": "code",
   "execution_count": 21,
   "id": "a3fb9c07",
   "metadata": {},
   "outputs": [],
   "source": [
    "params_XTY01 = {'boosting_type': 'gbdt', 'n_jobs': -1, 'learning_rate': 0.05, 'n_estimators': 1500, 'num_leaves': 15, 'objective': 'regression', 'reg_alpha': 0.05, 'reg_lambda': 0.05, 'seed': 42}\n",
    "mdl_y01 = lgb.LGBMRegressor(**params_XTY01) "
   ]
  },
  {
   "cell_type": "code",
   "execution_count": null,
   "id": "f04f8a5c",
   "metadata": {},
   "outputs": [],
   "source": []
  },
  {
   "cell_type": "code",
   "execution_count": 22,
   "id": "b46861fa",
   "metadata": {},
   "outputs": [],
   "source": [
    "# params_XTY02 = bayesGridSearchCVParams(X_T_02, Y_02, objective='regression') # \n",
    "params_XTY02 = {'boosting_type': 'gbdt', 'n_jobs': -1, 'learning_rate': 0.05,  'n_estimators': 2000, 'num_leaves': 15, 'objective': 'regression', \n",
    "                'reg_lambda': 0.01, 'reg_alpha': 0.05, 'seed': 42} \n",
    "mdl_y02 = lgb.LGBMRegressor(**params_XTY02)  "
   ]
  },
  {
   "cell_type": "code",
   "execution_count": null,
   "id": "53cf5da7",
   "metadata": {},
   "outputs": [],
   "source": []
  },
  {
   "cell_type": "code",
   "execution_count": 23,
   "id": "92712701",
   "metadata": {},
   "outputs": [],
   "source": [
    "# params_XT02 = bayesGridSearchCVParams(X_02, pd.DataFrame(T_02),  objective='binary')\n",
    "params_XT02 = {'boosting_type': 'gbdt', 'objective': 'binary', 'class_weight': 'balanced', 'n_jobs': -1, 'learning_rate': 0.03, \n",
    "               'min_child_samples': 3, 'n_estimators': 200, 'num_leaves': 7, 'reg_lambda': 0.01, 'seed': 42}\n",
    "mdl_t02 = lgb.LGBMClassifier(**params_XT02) "
   ]
  },
  {
   "cell_type": "code",
   "execution_count": null,
   "id": "427753ba",
   "metadata": {},
   "outputs": [],
   "source": []
  },
  {
   "cell_type": "code",
   "execution_count": 24,
   "id": "68645508",
   "metadata": {
    "scrolled": true
   },
   "outputs": [
    {
     "name": "stdout",
     "output_type": "stream",
     "text": [
      "{'cv': 3, 'mc_iters': 3, 'alpha': 0.6} 0.46297920242006074\n"
     ]
    }
   ],
   "source": [
    "cv_list = [3]\n",
    "mc_iters_list = [3]\n",
    "alpha_list = [0.6]\n",
    "for cv in cv_list: \n",
    "    for mc_iters in mc_iters_list:\n",
    "        for alpha in alpha_list:\n",
    "            params_tmp = {'cv': cv, 'mc_iters': mc_iters, 'alpha': alpha} \n",
    "            # 01 \n",
    "            est01 = DRLearner(  model_propensity=mdl_t01, \n",
    "                                model_regression=mdl_y01, \n",
    "                                model_final=WeightedLasso(\n",
    "                                                        alpha=alpha,\n",
    "                                                        random_state=0), \n",
    "                                multitask_model_final=False, \n",
    "                                featurizer=None, \n",
    "                                min_propensity=1e-06, \n",
    "                                categories=['0', '1'], \n",
    "                                cv=cv, \n",
    "                                mc_iters=mc_iters, \n",
    "                                mc_agg='mean', \n",
    "                                random_state=2023) \n",
    "            est01.fit(Y=Y_01, T=T_01, X=X_01) \n",
    "            test_t01 = est01.effect(X=test, T0='0', T1='1') \n",
    "            X_t01 = est01.effect(X=X, T0='0', T1='1') \n",
    "            score_ = calc_score01(X_t01, test_t01)\n",
    "            print(params_tmp, score_)\n"
   ]
  },
  {
   "cell_type": "code",
   "execution_count": null,
   "id": "5a233588",
   "metadata": {},
   "outputs": [],
   "source": []
  },
  {
   "cell_type": "markdown",
   "id": "ec6ce39e",
   "metadata": {},
   "source": [
    "##### save model/data"
   ]
  },
  {
   "cell_type": "code",
   "execution_count": 31,
   "id": "15ba4851",
   "metadata": {},
   "outputs": [
    {
     "name": "stdout",
     "output_type": "stream",
     "text": [
      "{'cv': 2, 'mc_iters': 2, 'alpha': 0.15} 0.10650501895677937\n"
     ]
    }
   ],
   "source": [
    "cv_list = [2]\n",
    "mc_iters_list = [2]\n",
    "alpha_list = [0.15]\n",
    "for cv in cv_list: \n",
    "    for mc_iters in mc_iters_list:\n",
    "        for alpha in alpha_list:\n",
    "            params_tmp = {'cv': cv, 'mc_iters': mc_iters, 'alpha': alpha} \n",
    "            # 02\n",
    "            est02 = DRLearner(model_propensity=mdl_t02, \n",
    "                                       model_regression=mdl_y02, \n",
    "                                       model_final=WeightedLasso(\n",
    "                                                           alpha=alpha, \n",
    "                                                           random_state=0), \n",
    "                                        multitask_model_final=False, \n",
    "                                        featurizer=None, \n",
    "                                        min_propensity=1e-06, \n",
    "                                        categories=['0', '1'], \n",
    "                                        cv=cv,\n",
    "                                        mc_iters=mc_iters,\n",
    "                                        mc_agg='mean', \n",
    "                                        random_state=2023)\n",
    "\n",
    "            est02.fit(Y=Y_02, T=T_02, X=X_02)\n",
    "            test_t02 = est02.effect(X=test, T0='0', T1='1') \n",
    "            X_t02 = est02.effect(X=X, T0='0', T1='1')\n",
    "            score_ = calc_score02(X_t02, test_t02) \n",
    "            print(params_tmp, score_)\n"
   ]
  },
  {
   "cell_type": "code",
   "execution_count": 32,
   "id": "80f380e1",
   "metadata": {},
   "outputs": [],
   "source": [
    "# 分数"
   ]
  },
  {
   "cell_type": "code",
   "execution_count": 33,
   "id": "ed0f851b",
   "metadata": {},
   "outputs": [
    {
     "data": {
      "text/plain": [
       "0.5694842213768401"
      ]
     },
     "execution_count": 33,
     "metadata": {},
     "output_type": "execute_result"
    }
   ],
   "source": [
    "calc_score(np.concatenate((X_t01, test_t01), axis=0), np.concatenate((X_t02, test_t02), axis=0))"
   ]
  },
  {
   "cell_type": "code",
   "execution_count": null,
   "id": "394ccc8d",
   "metadata": {},
   "outputs": [],
   "source": []
  },
  {
   "cell_type": "code",
   "execution_count": 34,
   "id": "073c6ccf",
   "metadata": {},
   "outputs": [],
   "source": [
    "pd.DataFrame(np.concatenate((X_t01, test_t01), axis=0), columns=['t01']).to_csv('./dataset/model/drlearner2/drt01.csv', index=False)\n",
    "\n",
    "pd.DataFrame(np.concatenate((X_t02, test_t02), axis=0), columns=['t02']).to_csv('./dataset/model/drlearner2/drt02.csv', index=False)"
   ]
  },
  {
   "cell_type": "code",
   "execution_count": null,
   "id": "5999ac09",
   "metadata": {},
   "outputs": [],
   "source": []
  },
  {
   "cell_type": "code",
   "execution_count": 35,
   "id": "0f576480",
   "metadata": {},
   "outputs": [
    {
     "data": {
      "text/plain": [
       "['./dataset/model/drlearner2/est02.joblib']"
      ]
     },
     "execution_count": 35,
     "metadata": {},
     "output_type": "execute_result"
    }
   ],
   "source": [
    "from joblib import dump\n",
    "dump(est01, './dataset/model/drlearner2/est01.joblib')\n",
    "dump(est02, './dataset/model/drlearner2/est02.joblib')"
   ]
  },
  {
   "cell_type": "code",
   "execution_count": null,
   "id": "5e1135a1",
   "metadata": {},
   "outputs": [],
   "source": []
  },
  {
   "cell_type": "code",
   "execution_count": null,
   "id": "36747697",
   "metadata": {},
   "outputs": [],
   "source": []
  },
  {
   "cell_type": "code",
   "execution_count": null,
   "id": "f6b7c8c3",
   "metadata": {},
   "outputs": [],
   "source": []
  },
  {
   "cell_type": "code",
   "execution_count": null,
   "id": "ed111651",
   "metadata": {},
   "outputs": [],
   "source": []
  }
 ],
 "metadata": {
  "kernelspec": {
   "display_name": "econml",
   "language": "python",
   "name": "econml"
  },
  "language_info": {
   "codemirror_mode": {
    "name": "ipython",
    "version": 3
   },
   "file_extension": ".py",
   "mimetype": "text/x-python",
   "name": "python",
   "nbconvert_exporter": "python",
   "pygments_lexer": "ipython3",
   "version": "3.9.17"
  },
  "nbTranslate": {
   "displayLangs": [
    "*"
   ],
   "hotkey": "alt-t",
   "langInMainMenu": true,
   "sourceLang": "en",
   "targetLang": "fr",
   "useGoogleTranslate": true
  },
  "varInspector": {
   "cols": {
    "lenName": 16,
    "lenType": 16,
    "lenVar": 40
   },
   "kernels_config": {
    "python": {
     "delete_cmd_postfix": "",
     "delete_cmd_prefix": "del ",
     "library": "var_list.py",
     "varRefreshCmd": "print(var_dic_list())"
    },
    "r": {
     "delete_cmd_postfix": ") ",
     "delete_cmd_prefix": "rm(",
     "library": "var_list.r",
     "varRefreshCmd": "cat(var_dic_list()) "
    }
   },
   "types_to_exclude": [
    "module",
    "function",
    "builtin_function_or_method",
    "instance",
    "_Feature"
   ],
   "window_display": false
  }
 },
 "nbformat": 4,
 "nbformat_minor": 5
}
