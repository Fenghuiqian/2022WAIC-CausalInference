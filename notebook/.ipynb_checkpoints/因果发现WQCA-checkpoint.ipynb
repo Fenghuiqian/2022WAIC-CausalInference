{
 "cells": [
  {
   "cell_type": "code",
   "execution_count": 171,
   "id": "361afb85",
   "metadata": {
    "scrolled": false
   },
   "outputs": [],
   "source": [
    "import numpy as np\n",
    "import pandas as pd\n",
    "import warnings\n",
    "warnings.filterwarnings('ignore')\n",
    "from sklearn.preprocessing import LabelEncoder, StandardScaler, OneHotEncoder, PolynomialFeatures\n",
    "from sklearn.model_selection import GridSearchCV, train_test_split\n",
    "from skopt import BayesSearchCV\n",
    "from skopt.space import Real, Categorical, Integer\n",
    "from sklearn.metrics import r2_score, mean_squared_error, balanced_accuracy_score, roc_auc_score\n",
    "import lightgbm as lgb\n",
    "import matplotlib.pyplot as plt\n",
    "import seaborn as sns\n",
    "np.random.seed(2023) \n",
    "from econml.dml import CausalForestDML "
   ]
  },
  {
   "cell_type": "markdown",
   "id": "19ab764c",
   "metadata": {},
   "source": [
    "##### 列分组"
   ]
  },
  {
   "cell_type": "code",
   "execution_count": 2,
   "id": "8cd6ed01",
   "metadata": {},
   "outputs": [],
   "source": [
    "train = pd.read_csv('./dataset/data/train.csv')\n",
    "test = pd.read_csv('./dataset/data/test.csv') "
   ]
  },
  {
   "cell_type": "markdown",
   "id": "ea70fcd6",
   "metadata": {},
   "source": [
    "##### 寻找A"
   ]
  },
  {
   "cell_type": "code",
   "execution_count": 3,
   "id": "b11b90d2",
   "metadata": {},
   "outputs": [
    {
     "data": {
      "text/plain": [
       "V_20    0.0\n",
       "V_27    0.0\n",
       "dtype: float64"
      ]
     },
     "execution_count": 3,
     "metadata": {},
     "output_type": "execute_result"
    }
   ],
   "source": [
    "col_std = train.std(axis=0)\n",
    "col_std[col_std==0]"
   ]
  },
  {
   "cell_type": "code",
   "execution_count": 4,
   "id": "f1479c87",
   "metadata": {},
   "outputs": [],
   "source": [
    "# 这2列不包含任何信息，属于A\n",
    "A = ['V_20', 'V_27']"
   ]
  },
  {
   "cell_type": "code",
   "execution_count": 5,
   "id": "367d2fd5",
   "metadata": {},
   "outputs": [
    {
     "data": {
      "text/plain": [
       "V_17    0.016330\n",
       "V_38    0.006672\n",
       "dtype: float64"
      ]
     },
     "execution_count": 5,
     "metadata": {},
     "output_type": "execute_result"
    }
   ],
   "source": [
    "# 相关系数\n",
    "tr_corr = train.corr() \n",
    "# 去掉对角列\n",
    "tr_corr[tr_corr==1] = np.nan\n",
    "# 找到每列与其余列最大的相关系数\n",
    "tr_corr_max = tr_corr.max(axis=0) \n",
    "# 相关系数最大不超过0.02，可以认为属于独立变量\n",
    "tr_corr_max[tr_corr_max<0.02]"
   ]
  },
  {
   "cell_type": "code",
   "execution_count": 6,
   "id": "948e867a",
   "metadata": {},
   "outputs": [],
   "source": [
    "A.extend(['V_17', 'V_38'])"
   ]
  },
  {
   "cell_type": "code",
   "execution_count": 7,
   "id": "38f78aa3",
   "metadata": {
    "scrolled": false
   },
   "outputs": [
    {
     "data": {
      "text/plain": [
       "['V_20', 'V_27', 'V_17', 'V_38']"
      ]
     },
     "execution_count": 7,
     "metadata": {},
     "output_type": "execute_result"
    }
   ],
   "source": [
    "A"
   ]
  },
  {
   "cell_type": "code",
   "execution_count": 56,
   "id": "bc40ac73",
   "metadata": {},
   "outputs": [
    {
     "data": {
      "text/plain": [
       "V_0          0.012554\n",
       "V_1          0.039887\n",
       "V_2          0.103558\n",
       "V_3          0.016810\n",
       "V_4          0.043422\n",
       "V_5          0.046109\n",
       "V_6          0.060242\n",
       "V_7          0.172030\n",
       "V_9          0.100608\n",
       "V_11         0.018133\n",
       "V_12         0.034704\n",
       "V_13         0.027402\n",
       "V_15         0.124209\n",
       "V_16         0.074921\n",
       "V_17         0.005445\n",
       "V_18         0.041206\n",
       "V_19         0.025474\n",
       "V_20              NaN\n",
       "V_21         0.045436\n",
       "V_22         0.117922\n",
       "V_23         0.126613\n",
       "V_24         0.125903\n",
       "V_25         0.161403\n",
       "V_27              NaN\n",
       "V_28         0.018052\n",
       "V_29         0.144799\n",
       "V_30         0.144356\n",
       "V_31         0.061409\n",
       "V_32         0.150317\n",
       "V_33         0.041670\n",
       "V_34         0.040673\n",
       "V_35         0.025689\n",
       "V_36         0.033953\n",
       "V_37         0.171401\n",
       "V_38         0.003719\n",
       "V_39         0.030126\n",
       "treatment    0.113934\n",
       "outcome      0.155004\n",
       "dtype: float64"
      ]
     },
     "execution_count": 56,
     "metadata": {},
     "output_type": "execute_result"
    }
   ],
   "source": [
    "tr_corr.abs().mean()"
   ]
  },
  {
   "cell_type": "markdown",
   "id": "44ec044c",
   "metadata": {},
   "source": [
    "##### 填充空值"
   ]
  },
  {
   "cell_type": "code",
   "execution_count": 8,
   "id": "58afe31f",
   "metadata": {},
   "outputs": [],
   "source": [
    "train = train.drop(columns=A) \n",
    "test = test.drop(columns=A) "
   ]
  },
  {
   "cell_type": "code",
   "execution_count": 9,
   "id": "47c50260",
   "metadata": {},
   "outputs": [],
   "source": [
    "# 类别变量\n",
    "cateCols = ['V_8','V_10','V_14','V_26']"
   ]
  },
  {
   "cell_type": "code",
   "execution_count": 10,
   "id": "94743daf",
   "metadata": {},
   "outputs": [
    {
     "name": "stdout",
     "output_type": "stream",
     "text": [
      "['no' 'yes'] ['no' 'yes']\n",
      "['no' 'yes' 'unknown'] ['no' 'yes' 'unknown']\n",
      "['yes' 'no' 'unknown'] ['no' 'yes' 'unknown']\n",
      "['no' 'unknown' 'yes'] ['no' 'unknown']\n"
     ]
    }
   ],
   "source": [
    "for c in cateCols:\n",
    "    print(train[c].unique(), test[c].unique()) "
   ]
  },
  {
   "cell_type": "code",
   "execution_count": 11,
   "id": "fd6dfd02",
   "metadata": {},
   "outputs": [],
   "source": [
    "# 可以将unknown暂时设为空值Null, 之后进行预测与填充\n",
    "for c in cateCols:\n",
    "    train[c] = train[c].replace({'unknown': None})\n",
    "    test[c] = test[c].replace({'unknown': None})"
   ]
  },
  {
   "cell_type": "code",
   "execution_count": 12,
   "id": "bbae816b",
   "metadata": {},
   "outputs": [],
   "source": [
    "class PredNan():\n",
    "    def __init__(self):\n",
    "        \"\"\"\n",
    "        如果test也有空值，train test concat后进行空值填充\n",
    "        y_type: regression, binary, multiclass  \n",
    "        确保数据类型:  int, float, category\n",
    "        \"\"\"\n",
    "        self.y_type = None\n",
    "    def GridSearchCVParams(self):\n",
    "        # 定义模型\n",
    "        if self.y_type in ('multiclass', 'binary'): \n",
    "            params = {'boosting_type': 'gbdt', 'objective': self.y_type,\n",
    "                    'class_weight': 'balanced', 'n_jobs': -1} \n",
    "            estimator = lgb.LGBMClassifier(**params) \n",
    "            param_grid = {'learning_rate': [0.03], 'n_estimators': [700, 1000, 2000],\n",
    "                            'num_leaves': [7, 15, 31, 50],  'min_child_samples':[1, 3, 5, 7 , 11], 'seed': [42]} \n",
    "            scoring = 'roc_auc_ovr_weighted'\n",
    "        else:\n",
    "            params = {'boosting_type': 'gbdt', 'objective': 'regression', 'n_jobs': -1}\n",
    "            estimator = lgb.LGBMRegressor(**params) \n",
    "            param_grid = {'learning_rate': [0.03],  'n_estimators': [700, 1200, 2000],\n",
    "                'num_leaves': [7, 15, 31, 50],  'min_child_samples':[1, 2, 4, 7, 10, 15],  'seed': [42]} \n",
    "            scoring = 'r2'\n",
    "        # 使用GridSearchCV进行交叉验证\n",
    "        grid = GridSearchCV(estimator, param_grid, cv=3, scoring = scoring, n_jobs=-1)\n",
    "        grid.fit(self.X, self.Y) \n",
    "        # 输出最佳参数\n",
    "        print('Best parameters found by grid search are:', grid.best_params_)\n",
    "        params.update(grid.best_params_)\n",
    "        return params\n",
    "\n",
    "    def fillna(self, data):\n",
    "        self.data = data\n",
    "        self.cols = self.data.columns\n",
    "        for c in self.cols:\n",
    "            if self.data[c].count() != self.data.shape[0]:\n",
    "                if self.data[c].dtype == \"float\" or self.data[c].dtype == \"int\":\n",
    "                    self.y_type = 'regression'\n",
    "                else:\n",
    "                    if self.data[c].unique().shape[0] -1 ==2:\n",
    "                        self.y_type = 'binary'\n",
    "                    elif self.data[c].unique().shape[0] -1 > 2: \n",
    "                        self.y_type = 'multiclass'\n",
    "                    else:\n",
    "                        raise ValueError('类别变量category=1')\n",
    "            \n",
    "                self.Y = self.data.loc[self.data[c].notnull()][c]\n",
    "                self.X = self.data.loc[self.data[c].notnull()].drop(columns=[c])\n",
    "                self.X_toPred = self.data.loc[self.data[c].isnull()].drop(columns=[c])\n",
    "                print(c, self.y_type) \n",
    "                params = self.GridSearchCVParams()\n",
    "                estimator = lgb.LGBMClassifier(**params) if self.y_type in ('multiclass', 'binary') else lgb.LGBMRegressor(**params) \n",
    "                estimator.fit(self.X, self.Y)\n",
    "                r = estimator.predict(self.X_toPred)\n",
    "                print(c, self.data.loc[self.data[c].isnull()][c].unique(), self.X_toPred.shape, r.shape)\n",
    "                self.data.loc[self.data[c].isnull(), c] = r \n",
    "                print(c, self.data.loc[self.data[c].isnull()][c].shape, self.data.loc[self.data[c].isnull()][c].unique())\n",
    "#         return self.data "
   ]
  },
  {
   "cell_type": "code",
   "execution_count": 13,
   "id": "1abb5b88",
   "metadata": {},
   "outputs": [],
   "source": [
    "# 测试集中也有空值，一起进行填充"
   ]
  },
  {
   "cell_type": "code",
   "execution_count": 14,
   "id": "416b051a",
   "metadata": {},
   "outputs": [],
   "source": [
    "data = pd.concat((train.iloc[:, :-2], test)) "
   ]
  },
  {
   "cell_type": "code",
   "execution_count": 15,
   "id": "f6029322",
   "metadata": {},
   "outputs": [],
   "source": [
    "# 类别变量设置为category\n",
    "for c in cateCols:\n",
    "    data[c] = data[c].astype('category')"
   ]
  },
  {
   "cell_type": "code",
   "execution_count": 16,
   "id": "0356f0d1",
   "metadata": {
    "scrolled": true
   },
   "outputs": [
    {
     "name": "stdout",
     "output_type": "stream",
     "text": [
      "V_4 regression\n",
      "Best parameters found by grid search are: {'learning_rate': 0.03, 'min_child_samples': 4, 'n_estimators': 2000, 'num_leaves': 15, 'seed': 42}\n",
      "V_4 [nan] (10, 35) (10,)\n",
      "V_4 (0,) []\n",
      "V_10 binary\n",
      "Best parameters found by grid search are: {'learning_rate': 0.03, 'min_child_samples': 5, 'n_estimators': 2000, 'num_leaves': 31, 'seed': 42}\n",
      "V_10 [NaN]\n",
      "Categories (2, object): ['no', 'yes'] (990, 35) (990,)\n",
      "V_10 (0,) [], Categories (2, object): ['no', 'yes']\n",
      "V_14 binary\n",
      "Best parameters found by grid search are: {'learning_rate': 0.03, 'min_child_samples': 5, 'n_estimators': 2000, 'num_leaves': 50, 'seed': 42}\n",
      "V_14 [NaN]\n",
      "Categories (2, object): ['no', 'yes'] (990, 35) (990,)\n",
      "V_14 (0,) [], Categories (2, object): ['no', 'yes']\n",
      "V_26 binary\n",
      "Best parameters found by grid search are: {'learning_rate': 0.03, 'min_child_samples': 1, 'n_estimators': 1000, 'num_leaves': 7, 'seed': 42}\n",
      "V_26 [NaN]\n",
      "Categories (2, object): ['no', 'yes'] (8597, 35) (8597,)\n",
      "V_26 (0,) [], Categories (2, object): ['no', 'yes']\n",
      "V_28 regression\n",
      "Best parameters found by grid search are: {'learning_rate': 0.03, 'min_child_samples': 15, 'n_estimators': 2000, 'num_leaves': 31, 'seed': 42}\n",
      "V_28 [nan] (30, 35) (30,)\n",
      "V_28 (0,) []\n"
     ]
    }
   ],
   "source": [
    "filler = PredNan()\n",
    "filler.fillna(data)"
   ]
  },
  {
   "cell_type": "code",
   "execution_count": 25,
   "id": "c1d60c63",
   "metadata": {},
   "outputs": [],
   "source": [
    "data.to_csv('./dataset/data/filledData.csv', index=False) "
   ]
  },
  {
   "cell_type": "code",
   "execution_count": 23,
   "id": "f1c6084b",
   "metadata": {},
   "outputs": [],
   "source": [
    "train, test = data[:-5000], data[-5000:]"
   ]
  },
  {
   "cell_type": "code",
   "execution_count": 26,
   "id": "098d83a9",
   "metadata": {},
   "outputs": [],
   "source": [
    "T_Y = pd.read_csv('./dataset/data/train.csv', usecols=['treatment', 'outcome']) "
   ]
  },
  {
   "cell_type": "code",
   "execution_count": 82,
   "id": "2043062e",
   "metadata": {},
   "outputs": [
    {
     "data": {
      "text/plain": [
       "(2,)"
      ]
     },
     "execution_count": 82,
     "metadata": {},
     "output_type": "execute_result"
    }
   ],
   "source": [
    "train['V_10'].values.unique().shape[0]"
   ]
  },
  {
   "cell_type": "code",
   "execution_count": 106,
   "id": "7606a830",
   "metadata": {},
   "outputs": [],
   "source": [
    "def scoring(X, Y):\n",
    "    if Y.dtype != 'category':\n",
    "        objective = 'regression'\n",
    "        params = {'boosting_type': 'gbdt', 'objective': objective, 'n_jobs': -1}\n",
    "        estimator = lgb.LGBMRegressor(**params) \n",
    "        scoring = 'neg_root_mean_squared_error'\n",
    "    else:\n",
    "        objective = 'binary' if Y.unique().shape[0] ==2 else 'multiclass'\n",
    "        params = {'boosting_type': 'gbdt', 'objective': objective, 'n_jobs': -1}\n",
    "        estimator = lgb.LGBMClassifier(**params) \n",
    "        scoring = 'roc_auc_ovr_weighted'\n",
    "        le_y = LabelEncoder()\n",
    "        Y = le_y.fit_transform(Y)\n",
    "    param_grid = {'learning_rate': [0.03],\n",
    "                  'n_estimators': [1000, 2000],\n",
    "                  'num_leaves': [7, 15, 25, 31],\n",
    "                  'min_child_samples':[1, 3, 5, 10, 15],\n",
    "                  'seed': [42]} \n",
    "    grid = GridSearchCV(estimator, param_grid, cv=3, scoring=scoring, n_jobs=-1)\n",
    "    grid.fit(X, Y) \n",
    "    params.update(grid.best_params_) \n",
    "    estimator = lgb.LGBMRegressor(**params) if objective == 'regression' else lgb.LGBMClassifier(**params) \n",
    "    X_train, X_test, y_train, y_test = train_test_split(X, Y, test_size=0.25, random_state=2023)\n",
    "    estimator.fit(X_train, y_train) \n",
    "    x_pred = estimator.predict(X_test)\n",
    "    if objective == 'regression':\n",
    "        r2, mse = round(r2_score(y_test, x_pred), 4) , round(mean_squared_error(y_test, x_pred), 4) \n",
    "        return r2, mse\n",
    "    else:\n",
    "        x_proba = estimator.predict_proba(X_test)\n",
    "        accu, auc = round(balanced_accuracy_score(y_test, x_pred), \n",
    "                          4), round(roc_auc_score(y_test, x_proba[:, 1], average='weighted'), 4)\n",
    "        return accu, auc"
   ]
  },
  {
   "cell_type": "code",
   "execution_count": null,
   "id": "3d339cda",
   "metadata": {},
   "outputs": [],
   "source": []
  },
  {
   "cell_type": "markdown",
   "id": "c896be2d",
   "metadata": {},
   "source": [
    "##### T和Y作为特征预测某一列a，如果再加上某一列b作为特征，预测结果变好，说明a与b在T和Y的同侧"
   ]
  },
  {
   "cell_type": "code",
   "execution_count": 32,
   "id": "09014dc7",
   "metadata": {},
   "outputs": [],
   "source": [
    "ohe = OneHotEncoder(drop='first', sparse_output=False)\n",
    "T_ohe = ohe.fit_transform(T_Y[['treatment']])\n",
    "T_Y = np.concatenate((T_ohe, T_Y[['outcome']].values), axis=1)\n",
    "# poly features \n",
    "featurizer = PolynomialFeatures(degree=3)\n",
    "T_Y_feature = featurizer.fit_transform(T_Y) "
   ]
  },
  {
   "cell_type": "code",
   "execution_count": 33,
   "id": "8ff61e72",
   "metadata": {},
   "outputs": [
    {
     "data": {
      "text/plain": [
       "(36188, 20)"
      ]
     },
     "execution_count": 33,
     "metadata": {},
     "output_type": "execute_result"
    }
   ],
   "source": [
    "T_Y_feature.shape"
   ]
  },
  {
   "cell_type": "code",
   "execution_count": 35,
   "id": "0bcc6c8e",
   "metadata": {},
   "outputs": [],
   "source": [
    "contCols = [i for i in train.columns if i not in cateCols] "
   ]
  },
  {
   "cell_type": "markdown",
   "id": "26d1bb24",
   "metadata": {},
   "source": [
    "##### 选一列比如V_7(与其他列的相关性平均值较大的)作为被预测列"
   ]
  },
  {
   "cell_type": "code",
   "execution_count": 37,
   "id": "06fe82c5",
   "metadata": {},
   "outputs": [],
   "source": [
    "# target\n",
    "target = train['V_7'].values \n",
    "base_r2, base_mse = scoring(X=T_Y_feature, Y=target) "
   ]
  },
  {
   "cell_type": "code",
   "execution_count": 39,
   "id": "8a6e492a",
   "metadata": {},
   "outputs": [
    {
     "data": {
      "text/plain": [
       "(0.1407, 2.5521)"
      ]
     },
     "execution_count": 39,
     "metadata": {},
     "output_type": "execute_result"
    }
   ],
   "source": [
    "base_r2, base_mse"
   ]
  },
  {
   "cell_type": "code",
   "execution_count": 41,
   "id": "fbe0e20b",
   "metadata": {
    "scrolled": true
   },
   "outputs": [
    {
     "name": "stdout",
     "output_type": "stream",
     "text": [
      "V_0 R2 0.1407 添加后 0.1402 差值: -0.0005000000000000004   |   MSE 2.5521 添加后 2.5533 差值： 0.001200000000000312\n",
      "V_1 R2 0.1407 添加后 0.14 差值: -0.0006999999999999784   |   MSE 2.5521 添加后 2.554 差值： 0.0019000000000000128\n",
      "V_2 R2 0.1407 添加后 0.2314 差值: 0.0907   |   MSE 2.5521 添加后 2.2826 差值： -0.26949999999999985\n",
      "V_3 R2 0.1407 添加后 0.1391 差值: -0.0015999999999999903   |   MSE 2.5521 添加后 2.5566 差值： 0.0045000000000001705\n",
      "V_4 R2 0.1407 添加后 0.1405 差值: -0.00019999999999997797   |   MSE 2.5521 添加后 2.5525 差值： 0.00040000000000040004\n",
      "V_5 R2 0.1407 添加后 0.1715 差值: 0.030800000000000022   |   MSE 2.5521 添加后 2.4606 差值： -0.09149999999999991\n",
      "V_6 R2 0.1407 添加后 0.9997 差值: 0.859   |   MSE 2.5521 添加后 0.001 差值： -2.5511\n",
      "V_7 R2 0.1407 添加后 1.0 差值: 0.8593   |   MSE 2.5521 添加后 0.0 差值： -2.5521\n",
      "V_9 R2 0.1407 添加后 0.1753 差值: 0.03460000000000002   |   MSE 2.5521 添加后 2.4492 差值： -0.10289999999999999\n",
      "V_11 R2 0.1407 添加后 0.1388 差值: -0.001899999999999985   |   MSE 2.5521 添加后 2.5574 差值： 0.005300000000000082\n",
      "V_12 R2 0.1407 添加后 0.1496 差值: 0.008900000000000019   |   MSE 2.5521 添加后 2.5254 差值： -0.026699999999999946\n",
      "V_13 R2 0.1407 添加后 0.1402 差值: -0.0005000000000000004   |   MSE 2.5521 添加后 2.5534 差值： 0.0013000000000000789\n",
      "V_15 R2 0.1407 添加后 0.2664 差值: 0.12570000000000003   |   MSE 2.5521 添加后 2.1785 差值： -0.3735999999999997\n",
      "V_16 R2 0.1407 添加后 0.2649 差值: 0.12420000000000003   |   MSE 2.5521 添加后 2.183 差值： -0.3691\n",
      "V_18 R2 0.1407 添加后 0.1396 差值: -0.0010999999999999899   |   MSE 2.5521 添加后 2.5552 差值： 0.0031000000000003247\n",
      "V_19 R2 0.1407 添加后 0.1858 差值: 0.0451   |   MSE 2.5521 添加后 2.418 差值： -0.13409999999999966\n",
      "V_21 R2 0.1407 添加后 0.1558 差值: 0.015100000000000002   |   MSE 2.5521 添加后 2.5072 差值： -0.04489999999999972\n",
      "V_22 R2 0.1407 添加后 0.146 差值: 0.005299999999999999   |   MSE 2.5521 添加后 2.5363 差值： -0.015799999999999592\n",
      "V_23 R2 0.1407 添加后 0.1401 差值: -0.0005999999999999894   |   MSE 2.5521 添加后 2.5536 差值： 0.0015000000000000568\n",
      "V_24 R2 0.1407 添加后 0.9996 差值: 0.8589   |   MSE 2.5521 添加后 0.001 差值： -2.5511\n",
      "V_25 R2 0.1407 添加后 0.9984 差值: 0.8576999999999999   |   MSE 2.5521 添加后 0.0048 差值： -2.5473\n",
      "V_28 R2 0.1407 添加后 0.1693 差值: 0.028600000000000014   |   MSE 2.5521 添加后 2.4669 差值： -0.08519999999999994\n",
      "V_29 R2 0.1407 添加后 0.1822 差值: 0.04150000000000001   |   MSE 2.5521 添加后 2.4287 差值： -0.12339999999999973\n",
      "V_30 R2 0.1407 添加后 0.1391 差值: -0.0015999999999999903   |   MSE 2.5521 添加后 2.5566 差值： 0.0045000000000001705\n",
      "V_31 R2 0.1407 添加后 0.4692 差值: 0.3285   |   MSE 2.5521 添加后 1.5764 差值： -0.9756999999999998\n",
      "V_32 R2 0.1407 添加后 0.1387 差值: -0.0020000000000000018   |   MSE 2.5521 添加后 2.558 差值： 0.005900000000000016\n",
      "V_33 R2 0.1407 添加后 0.1421 差值: 0.0014000000000000123   |   MSE 2.5521 添加后 2.5478 差值： -0.0042999999999997485\n",
      "V_34 R2 0.1407 添加后 0.1413 差值: 0.0006000000000000172   |   MSE 2.5521 添加后 2.5502 差值： -0.0019000000000000128\n",
      "V_35 R2 0.1407 添加后 0.1429 差值: 0.0022000000000000075   |   MSE 2.5521 添加后 2.5453 差值： -0.006799999999999695\n",
      "V_36 R2 0.1407 添加后 0.2078 差值: 0.06710000000000002   |   MSE 2.5521 添加后 2.3527 差值： -0.1993999999999998\n",
      "V_37 R2 0.1407 添加后 0.9961 差值: 0.8553999999999999   |   MSE 2.5521 添加后 0.0117 差值： -2.5404\n",
      "V_39 R2 0.1407 添加后 0.1858 差值: 0.0451   |   MSE 2.5521 添加后 2.4179 差值： -0.13419999999999987\n"
     ]
    }
   ],
   "source": [
    "# CONTINUOUS \n",
    "for col in contCols:\n",
    "    col_ = train[[col]].values\n",
    "    poly = PolynomialFeatures(degree=3) \n",
    "    X = poly.fit_transform(np.concatenate((T_Y, col_), axis=1)) \n",
    "    r2, mse = scoring(X, target) \n",
    "    print(col, 'R2', base_r2, '添加后', r2, '差值:', r2-base_r2 , '  |  ', 'MSE', base_mse, '添加后', mse,  '差值：', mse-base_mse)"
   ]
  },
  {
   "cell_type": "code",
   "execution_count": 42,
   "id": "ef4ba913",
   "metadata": {
    "scrolled": true
   },
   "outputs": [
    {
     "name": "stdout",
     "output_type": "stream",
     "text": [
      "V_8 R2 0.1407 添加后 0.1971 差值: 0.056400000000000006   |   MSE 2.5521 添加后 2.3844 差值： -0.16769999999999996\n",
      "V_10 R2 0.1407 添加后 0.142 差值: 0.0012999999999999956   |   MSE 2.5521 添加后 2.5482 差值： -0.0038999999999997925\n",
      "V_14 R2 0.1407 添加后 0.1616 差值: 0.020900000000000002   |   MSE 2.5521 添加后 2.49 差值： -0.0620999999999996\n",
      "V_26 R2 0.1407 添加后 0.1407 差值: 0.0   |   MSE 2.5521 添加后 2.5521 差值： 0.0\n"
     ]
    }
   ],
   "source": [
    "# CATEGORY \n",
    "for col in cateCols:\n",
    "    col_ = train[[col]].values\n",
    "    oht_ = OneHotEncoder(drop='first', sparse_output=False)\n",
    "    col_ = oht_.fit_transform(col_)\n",
    "    poly = PolynomialFeatures(degree=3) \n",
    "    X = poly.fit_transform(np.concatenate((T_Y, col_), axis=1)) \n",
    "    r2, mse = scoring(X, target) \n",
    "    print(col, 'R2', base_r2, '添加后', r2, '差值:', r2-base_r2 , '  |  ', 'MSE', base_mse, '添加后', mse,  '差值：', mse-base_mse)"
   ]
  },
  {
   "cell_type": "code",
   "execution_count": null,
   "id": "c48e7610",
   "metadata": {},
   "outputs": [],
   "source": [
    "# 暂定将R2差值>0.03认为与V_7同组, R2差值<0.002的认为与V_7不同组, 中间的认为不能确定\n",
    "# 可以看到feature之间互相的相关性联系比较多，因此几次尝试就能将fearture区分开\n",
    "GROUP7 = ['V_7', 'V_2', 'V_5', 'V_6', 'V_9', 'V_15', 'V_16', 'V_19', 'V_24', 'V_25', 'V_29', 'V_31', 'V_36', 'V_37', 'V_39', 'V_8', 'V_14']\n",
    "GROUP_NOT7 = ['V_0', 'V_1', 'V_3', 'V_4', 'V_11', 'V_13', 'V_18', 'V_23', 'V_30', 'V_32', 'V_33', 'V_34', 'V_26', 'V_10']\n",
    "TOBD = ['V_12', 'V_21', 'V_22', 'V_28', 'V_35'] "
   ]
  },
  {
   "cell_type": "markdown",
   "id": "1fd9ee3e",
   "metadata": {},
   "source": [
    "##### 再选取一个col  V_15(与其他列的相关性平均值较大的) 作为target, 重复上面过程"
   ]
  },
  {
   "cell_type": "code",
   "execution_count": 60,
   "id": "b21b39bf",
   "metadata": {},
   "outputs": [
    {
     "data": {
      "text/plain": [
       "(0.2496, 0.1757)"
      ]
     },
     "execution_count": 60,
     "metadata": {},
     "output_type": "execute_result"
    }
   ],
   "source": [
    "# target\n",
    "target = train['V_15'].values\n",
    "base_r2, base_mse = scoring(X=T_Y_feature, Y=target) \n",
    "base_r2, base_mse "
   ]
  },
  {
   "cell_type": "code",
   "execution_count": 61,
   "id": "f8bb5fe1",
   "metadata": {
    "scrolled": true
   },
   "outputs": [
    {
     "name": "stdout",
     "output_type": "stream",
     "text": [
      "V_0 R2 0.2496 添加后 0.2447 差值: -0.004899999999999988   |   MSE 0.1757 添加后 0.1768 差值： 0.0011000000000000176\n",
      "V_1 R2 0.2496 添加后 0.2385 差值: -0.011099999999999999   |   MSE 0.1757 添加后 0.1783 差值： 0.002599999999999991\n",
      "V_2 R2 0.2496 添加后 0.2691 差值: 0.019500000000000017   |   MSE 0.1757 添加后 0.1711 差值： -0.004599999999999993\n",
      "V_3 R2 0.2496 添加后 0.2441 差值: -0.005499999999999977   |   MSE 0.1757 添加后 0.1769 差值： 0.0012000000000000066\n",
      "V_4 R2 0.2496 添加后 0.2385 差值: -0.011099999999999999   |   MSE 0.1757 添加后 0.1783 差值： 0.002599999999999991\n",
      "V_5 R2 0.2496 添加后 0.2709 差值: 0.021299999999999986   |   MSE 0.1757 添加后 0.1707 差值： -0.0050000000000000044\n",
      "V_6 R2 0.2496 添加后 0.4716 差值: 0.22200000000000003   |   MSE 0.1757 添加后 0.1237 差值： -0.05199999999999999\n",
      "V_7 R2 0.2496 添加后 0.4763 差值: 0.2267   |   MSE 0.1757 添加后 0.1226 差值： -0.053099999999999994\n",
      "V_9 R2 0.2496 添加后 0.4201 差值: 0.17049999999999998   |   MSE 0.1757 添加后 0.1357 差值： -0.04000000000000001\n",
      "V_11 R2 0.2496 添加后 0.2393 差值: -0.010299999999999976   |   MSE 0.1757 添加后 0.1781 差值： 0.0024000000000000132\n",
      "V_12 R2 0.2496 添加后 0.248 差值: -0.0015999999999999903   |   MSE 0.1757 添加后 0.176 差值： 0.0002999999999999947\n",
      "V_13 R2 0.2496 添加后 0.2462 差值: -0.0033999999999999864   |   MSE 0.1757 添加后 0.1765 差值： 0.0007999999999999952\n",
      "V_15 R2 0.2496 添加后 0.9994 差值: 0.7498   |   MSE 0.1757 添加后 0.0001 差值： -0.1756\n",
      "V_16 R2 0.2496 添加后 0.7838 差值: 0.5342   |   MSE 0.1757 添加后 0.0506 差值： -0.1251\n",
      "V_18 R2 0.2496 添加后 0.2442 差值: -0.005399999999999988   |   MSE 0.1757 添加后 0.1769 差值： 0.0012000000000000066\n",
      "V_19 R2 0.2496 添加后 0.2731 差值: 0.02350000000000002   |   MSE 0.1757 添加后 0.1702 差值： -0.005500000000000005\n",
      "V_21 R2 0.2496 添加后 0.2503 差值: 0.0007000000000000339   |   MSE 0.1757 添加后 0.1755 差值： -0.00020000000000000573\n",
      "V_22 R2 0.2496 添加后 0.2414 差值: -0.008199999999999985   |   MSE 0.1757 添加后 0.1776 差值： 0.0019000000000000128\n",
      "V_23 R2 0.2496 添加后 0.2446 差值: -0.004999999999999977   |   MSE 0.1757 添加后 0.1768 差值： 0.0011000000000000176\n",
      "V_24 R2 0.2496 添加后 0.4749 差值: 0.2253   |   MSE 0.1757 添加后 0.1229 差值： -0.0528\n",
      "V_25 R2 0.2496 添加后 0.4629 差值: 0.2133   |   MSE 0.1757 添加后 0.1257 差值： -0.04999999999999999\n",
      "V_28 R2 0.2496 添加后 0.2985 差值: 0.0489   |   MSE 0.1757 添加后 0.1642 差值： -0.011499999999999982\n",
      "V_29 R2 0.2496 添加后 0.2488 差值: -0.0007999999999999952   |   MSE 0.1757 添加后 0.1758 差值： 0.00010000000000001674\n",
      "V_30 R2 0.2496 添加后 0.2483 差值: -0.0012999999999999956   |   MSE 0.1757 添加后 0.176 差值： 0.0002999999999999947\n",
      "V_31 R2 0.2496 添加后 0.2824 差值: 0.032799999999999996   |   MSE 0.1757 添加后 0.168 差值： -0.007699999999999985\n",
      "V_32 R2 0.2496 添加后 0.2456 差值: -0.003999999999999976   |   MSE 0.1757 添加后 0.1766 差值： 0.0009000000000000119\n",
      "V_33 R2 0.2496 添加后 0.245 差值: -0.004599999999999993   |   MSE 0.1757 添加后 0.1768 差值： 0.0011000000000000176\n",
      "V_34 R2 0.2496 添加后 0.2446 差值: -0.004999999999999977   |   MSE 0.1757 添加后 0.1768 差值： 0.0011000000000000176\n",
      "V_35 R2 0.2496 添加后 0.245 差值: -0.004599999999999993   |   MSE 0.1757 添加后 0.1767 差值： 0.0010000000000000009\n",
      "V_36 R2 0.2496 添加后 0.2674 差值: 0.017800000000000038   |   MSE 0.1757 添加后 0.1715 差值： -0.0041999999999999815\n",
      "V_37 R2 0.2496 添加后 0.4433 差值: 0.19370000000000004   |   MSE 0.1757 添加后 0.1303 差值： -0.045399999999999996\n",
      "V_39 R2 0.2496 添加后 0.3083 差值: 0.05870000000000003   |   MSE 0.1757 添加后 0.1619 差值： -0.013800000000000007\n"
     ]
    }
   ],
   "source": [
    "# CONTINUOUS \n",
    "for col in contCols:\n",
    "    col_ = train[[col]].values\n",
    "    poly = PolynomialFeatures(degree=3) \n",
    "    X = poly.fit_transform(np.concatenate((T_Y, col_), axis=1)) \n",
    "    r2, mse = scoring(X, target) \n",
    "    print(col, 'R2', base_r2, '添加后', r2, '差值:', r2-base_r2 , '  |  ', 'MSE', base_mse, '添加后', mse,  '差值：', mse-base_mse)"
   ]
  },
  {
   "cell_type": "code",
   "execution_count": 62,
   "id": "2804f3b4",
   "metadata": {},
   "outputs": [
    {
     "name": "stdout",
     "output_type": "stream",
     "text": [
      "V_8 R2 0.2496 添加后 0.2649 差值: 0.015300000000000036   |   MSE 0.1757 添加后 0.1721 差值： -0.003599999999999992\n",
      "V_10 R2 0.2496 添加后 0.2496 差值: 0.0   |   MSE 0.1757 添加后 0.1757 差值： 0.0\n",
      "V_14 R2 0.2496 添加后 0.2655 差值: 0.015900000000000025   |   MSE 0.1757 添加后 0.172 差值： -0.003700000000000009\n",
      "V_26 R2 0.2496 添加后 0.2496 差值: 0.0   |   MSE 0.1757 添加后 0.1757 差值： 0.0\n"
     ]
    }
   ],
   "source": [
    "# CATEGORY \n",
    "for col in cateCols:\n",
    "    col_ = train[[col]].values\n",
    "    oht_ = OneHotEncoder(drop='first', sparse_output=False)\n",
    "    col_ = oht_.fit_transform(col_)\n",
    "    poly = PolynomialFeatures(degree=3) \n",
    "    X = poly.fit_transform(np.concatenate((T_Y, col_), axis=1)) \n",
    "    r2, mse = scoring(X, target) \n",
    "    print(col, 'R2', base_r2, '添加后', r2, '差值:', r2-base_r2 , '  |  ', 'MSE', base_mse, '添加后', mse,  '差值：', mse-base_mse)"
   ]
  },
  {
   "cell_type": "code",
   "execution_count": null,
   "id": "59b9974b",
   "metadata": {},
   "outputs": [],
   "source": [
    "# 可以确定V_12, V_21, V_35 属于GROUP_NOT7, \n",
    "# 可以确定V_28, V_10 属于GROUP7\n",
    "GROUP7 = ['V_7', 'V_2', 'V_5', 'V_6', 'V_9', 'V_12', 'V_15', 'V_16', 'V_19', 'V_21', 'V_24', 'V_25', 'V_28', 'V_29', 'V_31', 'V_35','V_36', 'V_37', 'V_39', 'V_8', 'V_14']\n",
    "GROUP_NOT7 = ['V_0', 'V_1', 'V_3', 'V_4', 'V_11', 'V_13', 'V_18', 'V_23', 'V_30', 'V_32', 'V_33', 'V_34', 'V_26', 'V_10']\n",
    "TOBD = ['V_22'] "
   ]
  },
  {
   "cell_type": "code",
   "execution_count": 65,
   "id": "d260fe86",
   "metadata": {},
   "outputs": [],
   "source": [
    "# 只剩下V_22, 将V_22作为target"
   ]
  },
  {
   "cell_type": "code",
   "execution_count": 63,
   "id": "90d10b4c",
   "metadata": {},
   "outputs": [
    {
     "data": {
      "text/plain": [
       "(-0.0002, 924.2683)"
      ]
     },
     "execution_count": 63,
     "metadata": {},
     "output_type": "execute_result"
    }
   ],
   "source": [
    "# target\n",
    "target = train['V_22'].values\n",
    "base_r2, base_mse = scoring(X=T_Y_feature, Y=target) \n",
    "base_r2, base_mse "
   ]
  },
  {
   "cell_type": "code",
   "execution_count": 64,
   "id": "956b1510",
   "metadata": {},
   "outputs": [
    {
     "name": "stdout",
     "output_type": "stream",
     "text": [
      "V_0 R2 -0.0002 添加后 0.0051 差值: 0.0053   |   MSE 924.2683 添加后 919.3543 差值： -4.913999999999987\n",
      "V_1 R2 -0.0002 添加后 0.0595 差值: 0.059699999999999996   |   MSE 924.2683 添加后 869.0709 差值： -55.1973999999999\n",
      "V_2 R2 -0.0002 添加后 -0.0096 差值: -0.009399999999999999   |   MSE 924.2683 添加后 932.9533 差值： 8.68500000000006\n",
      "V_3 R2 -0.0002 添加后 0.0043 差值: 0.0045   |   MSE 924.2683 添加后 920.1216 差值： -4.14670000000001\n",
      "V_4 R2 -0.0002 添加后 0.43 差值: 0.43019999999999997   |   MSE 924.2683 添加后 526.6935 差值： -397.5748\n",
      "V_5 R2 -0.0002 添加后 0.0076 差值: 0.0078   |   MSE 924.2683 添加后 917.0298 差值： -7.238499999999931\n",
      "V_6 R2 -0.0002 添加后 0.0152 差值: 0.0154   |   MSE 924.2683 添加后 910.0185 差值： -14.249799999999937\n",
      "V_7 R2 -0.0002 添加后 0.0077 差值: 0.0079   |   MSE 924.2683 添加后 917.0 差值： -7.268299999999954\n",
      "V_9 R2 -0.0002 添加后 -0.0012 差值: -0.0009999999999999998   |   MSE 924.2683 添加后 925.1641 差值： 0.8958000000000084\n",
      "V_11 R2 -0.0002 添加后 0.0035 差值: 0.0037   |   MSE 924.2683 添加后 920.8557 差值： -3.4125999999999976\n",
      "V_12 R2 -0.0002 添加后 0.0018 差值: 0.002   |   MSE 924.2683 添加后 922.4448 差值： -1.8234999999999673\n",
      "V_13 R2 -0.0002 添加后 0.0006 差值: 0.0007999999999999999   |   MSE 924.2683 添加后 923.551 差值： -0.7172999999999092\n",
      "V_15 R2 -0.0002 添加后 0.0039 差值: 0.0040999999999999995   |   MSE 924.2683 添加后 920.5314 差值： -3.7368999999999915\n",
      "V_16 R2 -0.0002 添加后 0.002 差值: 0.0022   |   MSE 924.2683 添加后 922.2451 差值： -2.0231999999999744\n",
      "V_18 R2 -0.0002 添加后 0.0833 差值: 0.0835   |   MSE 924.2683 添加后 847.1514 差值： -77.11689999999999\n",
      "V_19 R2 -0.0002 添加后 0.0026 差值: 0.0028   |   MSE 924.2683 添加后 921.6631 差值： -2.605199999999968\n",
      "V_21 R2 -0.0002 添加后 0.0221 差值: 0.0223   |   MSE 924.2683 添加后 903.7175 差值： -20.55079999999998\n",
      "V_22 R2 -0.0002 添加后 0.9973 差值: 0.9974999999999999   |   MSE 924.2683 添加后 2.4808 差值： -921.7874999999999\n",
      "V_23 R2 -0.0002 添加后 0.5435 差值: 0.5437   |   MSE 924.2683 添加后 421.8269 差值： -502.44139999999993\n",
      "V_24 R2 -0.0002 添加后 0.0156 差值: 0.015799999999999998   |   MSE 924.2683 添加后 909.6411 差值： -14.627199999999903\n",
      "V_25 R2 -0.0002 添加后 0.0124 差值: 0.0126   |   MSE 924.2683 添加后 912.6574 差值： -11.610899999999901\n",
      "V_28 R2 -0.0002 添加后 0.0015 差值: 0.0017000000000000001   |   MSE 924.2683 添加后 922.7313 差值： -1.5369999999999209\n",
      "V_29 R2 -0.0002 添加后 0.0875 差值: 0.0877   |   MSE 924.2683 添加后 843.2216 差值： -81.04669999999999\n",
      "V_30 R2 -0.0002 添加后 -0.0156 差值: -0.015399999999999999   |   MSE 924.2683 添加后 938.506 差值： 14.237700000000018\n",
      "V_31 R2 -0.0002 添加后 0.0072 差值: 0.0073999999999999995   |   MSE 924.2683 添加后 917.4091 差值： -6.859199999999987\n",
      "V_32 R2 -0.0002 添加后 -0.0052 差值: -0.005   |   MSE 924.2683 添加后 928.886 差值： 4.6177000000000135\n",
      "V_33 R2 -0.0002 添加后 0.0023 差值: 0.0025   |   MSE 924.2683 添加后 922.0029 差值： -2.2653999999999996\n",
      "V_34 R2 -0.0002 添加后 0.2886 差值: 0.2888   |   MSE 924.2683 添加后 657.3748 差值： -266.8934999999999\n",
      "V_35 R2 -0.0002 添加后 0.0058 差值: 0.005999999999999999   |   MSE 924.2683 添加后 918.7087 差值： -5.559599999999932\n",
      "V_36 R2 -0.0002 添加后 0.0041 差值: 0.0043   |   MSE 924.2683 添加后 920.3242 差值： -3.944099999999935\n",
      "V_37 R2 -0.0002 添加后 0.0132 差值: 0.0134   |   MSE 924.2683 添加后 911.9303 差值： -12.337999999999965\n",
      "V_39 R2 -0.0002 添加后 0.0002 差值: 0.0004   |   MSE 924.2683 添加后 923.9491 差值： -0.3191999999999098\n"
     ]
    }
   ],
   "source": [
    "# CONTINUOUS \n",
    "for col in contCols:\n",
    "    col_ = train[[col]].values\n",
    "    poly = PolynomialFeatures(degree=3) \n",
    "    X = poly.fit_transform(np.concatenate((T_Y, col_), axis=1)) \n",
    "    r2, mse = scoring(X, target) \n",
    "    print(col, 'R2', base_r2, '添加后', r2, '差值:', r2-base_r2 , '  |  ', 'MSE', base_mse, '添加后', mse,  '差值：', mse-base_mse)"
   ]
  },
  {
   "cell_type": "code",
   "execution_count": 66,
   "id": "6c547e82",
   "metadata": {},
   "outputs": [],
   "source": [
    "# 可以看到 V_22与V_4, V_18, V_23, V_29, V_34有较强相关性, 因此V_22属于GROUP_NOT7\n",
    "# V_29与V_7有R2=0.04相关性, 且与V_22有0.08相关性，需要再次测试来确定属于哪个组\n",
    "GROUP7 = ['V_7', 'V_2', 'V_5', 'V_6', 'V_9', 'V_12', 'V_15', 'V_16', 'V_19', 'V_21', 'V_24', 'V_25', 'V_28', 'V_29', 'V_31', 'V_35','V_36', 'V_37', 'V_39', 'V_8', 'V_14']\n",
    "GROUP_NOT7 = ['V_0', 'V_1', 'V_3', 'V_4', 'V_11', 'V_13', 'V_18', 'V_22', 'V_23', 'V_30', 'V_32', 'V_33', 'V_34', 'V_26', 'V_10']\n",
    "TOBD = ['V_29']"
   ]
  },
  {
   "cell_type": "code",
   "execution_count": 68,
   "id": "5bb2d3b5",
   "metadata": {},
   "outputs": [
    {
     "data": {
      "text/plain": [
       "(0.0126, 374.6458)"
      ]
     },
     "execution_count": 68,
     "metadata": {},
     "output_type": "execute_result"
    }
   ],
   "source": [
    "# 以V_29为target\n",
    "# target\n",
    "target = train['V_29'].values\n",
    "base_r2, base_mse = scoring(X=T_Y_feature, Y=target) \n",
    "base_r2, base_mse "
   ]
  },
  {
   "cell_type": "code",
   "execution_count": 69,
   "id": "59780f0d",
   "metadata": {
    "scrolled": true
   },
   "outputs": [
    {
     "name": "stdout",
     "output_type": "stream",
     "text": [
      "V_0 R2 0.0126 添加后 0.0309 差值: 0.0183   |   MSE 374.6458 添加后 367.717 差值： -6.928800000000024\n",
      "V_1 R2 0.0126 添加后 0.0664 差值: 0.0538   |   MSE 374.6458 添加后 354.2358 差值： -20.410000000000025\n",
      "V_2 R2 0.0126 添加后 0.0226 差值: 0.009999999999999998   |   MSE 374.6458 添加后 370.8562 差值： -3.789600000000007\n",
      "V_3 R2 0.0126 添加后 0.0544 差值: 0.0418   |   MSE 374.6458 添加后 358.7875 差值： -15.858299999999986\n",
      "V_4 R2 0.0126 添加后 0.1552 差值: 0.1426   |   MSE 374.6458 添加后 320.5513 差值： -54.09449999999998\n",
      "V_5 R2 0.0126 添加后 0.0292 差值: 0.0166   |   MSE 374.6458 添加后 368.3681 差值： -6.277699999999982\n",
      "V_6 R2 0.0126 添加后 0.0675 差值: 0.054900000000000004   |   MSE 374.6458 添加后 353.821 差值： -20.824799999999982\n",
      "V_7 R2 0.0126 添加后 0.0667 差值: 0.054099999999999995   |   MSE 374.6458 添加后 354.1217 差值： -20.524100000000033\n",
      "V_9 R2 0.0126 添加后 0.0166 差值: 0.004   |   MSE 374.6458 添加后 373.1268 差值： -1.5190000000000055\n",
      "V_11 R2 0.0126 添加后 0.079 差值: 0.0664   |   MSE 374.6458 添加后 349.4574 差值： -25.1884\n",
      "V_12 R2 0.0126 添加后 0.0131 差值: 0.0005000000000000004   |   MSE 374.6458 添加后 374.4467 差值： -0.19909999999998718\n",
      "V_13 R2 0.0126 添加后 0.0563 差值: 0.0437   |   MSE 374.6458 添加后 358.08 差值： -16.565800000000024\n",
      "V_15 R2 0.0126 添加后 0.0169 差值: 0.004299999999999998   |   MSE 374.6458 添加后 373.0224 差值： -1.6234000000000037\n",
      "V_16 R2 0.0126 添加后 0.0196 差值: 0.006999999999999999   |   MSE 374.6458 添加后 371.9893 差值： -2.656499999999994\n",
      "V_18 R2 0.0126 添加后 0.2199 差值: 0.2073   |   MSE 374.6458 添加后 295.9842 差值： -78.66160000000002\n",
      "V_19 R2 0.0126 添加后 0.0132 差值: 0.0005999999999999998   |   MSE 374.6458 添加后 374.4392 差值： -0.20659999999998035\n",
      "V_21 R2 0.0126 添加后 0.0549 差值: 0.0423   |   MSE 374.6458 添加后 358.6027 差值： -16.04309999999998\n",
      "V_22 R2 0.0126 添加后 0.0869 差值: 0.0743   |   MSE 374.6458 添加后 346.4514 差值： -28.19440000000003\n",
      "V_23 R2 0.0126 添加后 0.1281 差值: 0.11549999999999999   |   MSE 374.6458 添加后 330.8091 差值： -43.83670000000001\n",
      "V_24 R2 0.0126 添加后 0.0682 差值: 0.0556   |   MSE 374.6458 添加后 353.5446 差值： -21.101200000000006\n",
      "V_25 R2 0.0126 添加后 0.0652 差值: 0.052599999999999994   |   MSE 374.6458 添加后 354.6868 差值： -19.959000000000003\n",
      "V_28 R2 0.0126 添加后 0.0156 差值: 0.002999999999999999   |   MSE 374.6458 添加后 373.5139 差值： -1.13190000000003\n",
      "V_29 R2 0.0126 添加后 0.9981 差值: 0.9855   |   MSE 374.6458 添加后 0.738 差值： -373.9078\n",
      "V_30 R2 0.0126 添加后 0.0138 差值: 0.0011999999999999997   |   MSE 374.6458 添加后 374.1818 差值： -0.46399999999999864\n",
      "V_31 R2 0.0126 添加后 0.0314 差值: 0.018799999999999997   |   MSE 374.6458 添加后 367.4965 差值： -7.1492999999999824\n",
      "V_32 R2 0.0126 添加后 0.0077 差值: -0.0049   |   MSE 374.6458 添加后 376.512 差值： 1.866199999999992\n",
      "V_33 R2 0.0126 添加后 0.1609 差值: 0.1483   |   MSE 374.6458 添加后 318.3679 差值： -56.27789999999999\n",
      "V_34 R2 0.0126 添加后 0.0454 差值: 0.0328   |   MSE 374.6458 添加后 362.1981 差值： -12.447699999999998\n",
      "V_35 R2 0.0126 添加后 0.0354 差值: 0.0228   |   MSE 374.6458 添加后 365.9792 差值： -8.666600000000017\n",
      "V_36 R2 0.0126 添加后 0.0186 差值: 0.005999999999999998   |   MSE 374.6458 添加后 372.3837 差值： -2.262100000000032\n",
      "V_37 R2 0.0126 添加后 0.0661 差值: 0.053500000000000006   |   MSE 374.6458 添加后 354.3438 差值： -20.30200000000002\n",
      "V_39 R2 0.0126 添加后 0.0156 差值: 0.002999999999999999   |   MSE 374.6458 添加后 373.514 差值： -1.1317999999999984\n"
     ]
    }
   ],
   "source": [
    "# CONTINUOUS \n",
    "for col in contCols:\n",
    "    col_ = train[[col]].values\n",
    "    poly = PolynomialFeatures(degree=3) \n",
    "    X = poly.fit_transform(np.concatenate((T_Y, col_), axis=1)) \n",
    "    r2, mse = scoring(X, target) \n",
    "    print(col, 'R2', base_r2, '添加后', r2, '差值:', r2-base_r2 , '  |  ', 'MSE', base_mse, '添加后', mse,  '差值：', mse-base_mse)"
   ]
  },
  {
   "cell_type": "code",
   "execution_count": 71,
   "id": "6ba30862",
   "metadata": {},
   "outputs": [
    {
     "name": "stdout",
     "output_type": "stream",
     "text": [
      "V_8 R2 0.0126 添加后 0.0161 差值: 0.0034999999999999996   |   MSE 374.6458 添加后 373.32 差值： -1.3258000000000152\n",
      "V_10 R2 0.0126 添加后 0.0089 差值: -0.0037   |   MSE 374.6458 添加后 376.0517 差值： 1.4058999999999742\n",
      "V_14 R2 0.0126 添加后 0.0142 差值: 0.0016000000000000007   |   MSE 374.6458 添加后 374.0513 差值： -0.5944999999999823\n",
      "V_26 R2 0.0126 添加后 0.0127 差值: 9.99999999999994e-05   |   MSE 374.6458 添加后 374.6043 差值： -0.04149999999998499\n"
     ]
    }
   ],
   "source": [
    "# CATEGORY \n",
    "for col in cateCols:\n",
    "    col_ = train[[col]].values\n",
    "    oht_ = OneHotEncoder(drop='first', sparse_output=False)\n",
    "    col_ = oht_.fit_transform(col_)\n",
    "    poly = PolynomialFeatures(degree=3) \n",
    "    X = poly.fit_transform(np.concatenate((T_Y, col_), axis=1)) \n",
    "    r2, mse = scoring(X, target) \n",
    "    print(col, 'R2', base_r2, '添加后', r2, '差值:', r2-base_r2 , '  |  ', 'MSE', base_mse, '添加后', mse,  '差值：', mse-base_mse)"
   ]
  },
  {
   "cell_type": "code",
   "execution_count": 70,
   "id": "165a9655",
   "metadata": {},
   "outputs": [],
   "source": [
    "# V_29与 V_18, V_33相关性最高，因此V_29属于GROUP_NOT7\n",
    "GROUP7 = ['V_7', 'V_2', 'V_5', 'V_6', 'V_9', 'V_12', 'V_15', 'V_16', 'V_19', 'V_21', 'V_24', 'V_25', 'V_28', 'V_29', 'V_31', 'V_35','V_36', 'V_37', 'V_39', 'V_8', 'V_14']\n",
    "GROUP_NOT7 = ['V_0', 'V_1', 'V_3', 'V_4', 'V_11', 'V_13', 'V_18', 'V_22', 'V_23', 'V_29','V_30', 'V_32', 'V_33', 'V_34', 'V_26', 'V_10']"
   ]
  },
  {
   "cell_type": "code",
   "execution_count": null,
   "id": "740c28a4",
   "metadata": {},
   "outputs": [],
   "source": []
  },
  {
   "cell_type": "markdown",
   "id": "58dea927",
   "metadata": {},
   "source": [
    "##### 多次随机选择测试，以便得到更准确的结果"
   ]
  },
  {
   "cell_type": "code",
   "execution_count": 107,
   "id": "c85e1ec5",
   "metadata": {},
   "outputs": [
    {
     "data": {
      "text/plain": [
       "(0.5004, 0.6306)"
      ]
     },
     "execution_count": 107,
     "metadata": {},
     "output_type": "execute_result"
    }
   ],
   "source": [
    "# 以V_10为target\n",
    "target = train['V_10'].values\n",
    "base_accuracy, base_auc = scoring(X=T_Y_feature, Y=target) \n",
    "base_accuracy, base_auc"
   ]
  },
  {
   "cell_type": "code",
   "execution_count": 111,
   "id": "0524c0f9",
   "metadata": {
    "scrolled": true
   },
   "outputs": [
    {
     "name": "stdout",
     "output_type": "stream",
     "text": [
      "V_0 正确率 0.5004 添加后 0.5011 差值: 0.0007000000000000339   |   AUC 0.6306 添加后 0.6188 差值： -0.011800000000000033\n",
      "V_1 正确率 0.5004 添加后 0.5018 差值: 0.0014000000000000679   |   AUC 0.6306 添加后 0.6245 差值： -0.006099999999999994\n",
      "V_2 正确率 0.5004 添加后 0.5004 差值: 0.0   |   AUC 0.6306 添加后 0.6333 差值： 0.0026999999999999247\n",
      "V_3 正确率 0.5004 添加后 0.5002 差值: -0.00019999999999997797   |   AUC 0.6306 添加后 0.6238 差值： -0.006800000000000028\n",
      "V_4 正确率 0.5004 添加后 0.5006 差值: 0.000200000000000089   |   AUC 0.6306 添加后 0.6187 差值： -0.011900000000000022\n",
      "V_5 正确率 0.5004 添加后 0.5008 差值: 0.00040000000000006697   |   AUC 0.6306 添加后 0.6321 差值： 0.0014999999999999458\n",
      "V_6 正确率 0.5004 添加后 0.5012 差值: 0.0008000000000000229   |   AUC 0.6306 添加后 0.6395 差值： 0.008899999999999908\n",
      "V_7 正确率 0.5004 添加后 0.5028 差值: 0.0024000000000000687   |   AUC 0.6306 添加后 0.6481 差值： 0.01749999999999996\n",
      "V_9 正确率 0.5004 添加后 0.5005 差值: 9.999999999998899e-05   |   AUC 0.6306 添加后 0.6291 差值： -0.0015000000000000568\n",
      "V_11 正确率 0.5004 添加后 0.5014 差值: 0.0010000000000000009   |   AUC 0.6306 添加后 0.6195 差值： -0.011099999999999999\n",
      "V_12 正确率 0.5004 添加后 0.5023 差值: 0.0019000000000000128   |   AUC 0.6306 添加后 0.6206 差值： -0.010000000000000009\n",
      "V_13 正确率 0.5004 添加后 0.5013 差值: 0.0009000000000000119   |   AUC 0.6306 添加后 0.6203 差值： -0.010300000000000087\n",
      "V_15 正确率 0.5004 添加后 0.5007 差值: 0.000300000000000078   |   AUC 0.6306 添加后 0.6333 差值： 0.0026999999999999247\n",
      "V_16 正确率 0.5004 添加后 0.5007 差值: 0.000300000000000078   |   AUC 0.6306 添加后 0.6329 差值： 0.0022999999999999687\n",
      "V_18 正确率 0.5004 添加后 0.4997 差值: -0.0006999999999999784   |   AUC 0.6306 添加后 0.625 差值： -0.005600000000000049\n",
      "V_19 正确率 0.5004 添加后 0.5011 差值: 0.0007000000000000339   |   AUC 0.6306 添加后 0.6257 差值： -0.0049000000000000155\n",
      "V_21 正确率 0.5004 添加后 0.5005 差值: 9.999999999998899e-05   |   AUC 0.6306 添加后 0.6209 差值： -0.009700000000000042\n",
      "V_22 正确率 0.5004 添加后 0.5015 差值: 0.0010999999999999899   |   AUC 0.6306 添加后 0.6284 差值： -0.0022000000000000908\n",
      "V_23 正确率 0.5004 添加后 0.5025 差值: 0.0020999999999999908   |   AUC 0.6306 添加后 0.6222 差值： -0.008400000000000074\n",
      "V_24 正确率 0.5004 添加后 0.5009 差值: 0.000500000000000056   |   AUC 0.6306 添加后 0.6376 差值： 0.006999999999999895\n",
      "V_25 正确率 0.5004 添加后 0.5018 差值: 0.0014000000000000679   |   AUC 0.6306 添加后 0.628 差值： -0.0026000000000000467\n",
      "V_28 正确率 0.5004 添加后 0.5016 差值: 0.0012000000000000899   |   AUC 0.6306 添加后 0.6328 差值： 0.0021999999999999797\n",
      "V_29 正确率 0.5004 添加后 0.5004 差值: 0.0   |   AUC 0.6306 添加后 0.6189 差值： -0.011700000000000044\n",
      "V_30 正确率 0.5004 添加后 0.5007 差值: 0.000300000000000078   |   AUC 0.6306 添加后 0.6288 差值： -0.0018000000000000238\n",
      "V_31 正确率 0.5004 添加后 0.5024 差值: 0.0020000000000000018   |   AUC 0.6306 添加后 0.6399 差值： 0.009299999999999975\n",
      "V_32 正确率 0.5004 添加后 0.5007 差值: 0.000300000000000078   |   AUC 0.6306 添加后 0.6304 差值： -0.000200000000000089\n",
      "V_33 正确率 0.5004 添加后 0.5008 差值: 0.00040000000000006697   |   AUC 0.6306 添加后 0.6238 差值： -0.006800000000000028\n",
      "V_34 正确率 0.5004 添加后 0.5011 差值: 0.0007000000000000339   |   AUC 0.6306 添加后 0.6181 差值： -0.012500000000000067\n",
      "V_35 正确率 0.5004 添加后 0.5007 差值: 0.000300000000000078   |   AUC 0.6306 添加后 0.6172 差值： -0.013400000000000079\n",
      "V_36 正确率 0.5004 添加后 0.501 差值: 0.0006000000000000449   |   AUC 0.6306 添加后 0.626 差值： -0.0046000000000000485\n",
      "V_37 正确率 0.5004 添加后 0.501 差值: 0.0006000000000000449   |   AUC 0.6306 添加后 0.6288 差值： -0.0018000000000000238\n",
      "V_39 正确率 0.5004 添加后 0.5018 差值: 0.0014000000000000679   |   AUC 0.6306 添加后 0.6565 差值： 0.025899999999999923\n"
     ]
    }
   ],
   "source": [
    "# CONTINUOUS \n",
    "for col in contCols:\n",
    "    col_ = train[[col]].values\n",
    "    poly = PolynomialFeatures(degree=3) \n",
    "    X = poly.fit_transform(np.concatenate((T_Y, col_), axis=1)) \n",
    "    accu, auc = scoring(X, target) \n",
    "    print(col, '正确率', base_accuracy, '添加后', accu, '差值:', accu - base_accuracy , '  |  ', 'AUC', base_auc, '添加后', auc,  '差值：', auc-base_auc)"
   ]
  },
  {
   "cell_type": "code",
   "execution_count": 124,
   "id": "bce7972c",
   "metadata": {},
   "outputs": [
    {
     "data": {
      "text/plain": [
       "(0.5004, 0.6306)"
      ]
     },
     "execution_count": 124,
     "metadata": {},
     "output_type": "execute_result"
    }
   ],
   "source": [
    "# 以V_10为target\n",
    "target = train['V_10'].values\n",
    "base_accuracy, base_auc = scoring(X=T_Y_feature, Y=target) \n",
    "base_accuracy, base_auc"
   ]
  },
  {
   "cell_type": "code",
   "execution_count": 125,
   "id": "f954a61f",
   "metadata": {},
   "outputs": [
    {
     "name": "stdout",
     "output_type": "stream",
     "text": [
      "V_8 正确率 0.5004 添加后 0.4999 差值: -0.0004999999999999449   |   AUC 0.6306 添加后 0.6224 差值： -0.008200000000000096\n",
      "V_10 正确率 0.5004 添加后 1.0 差值: 0.49960000000000004   |   AUC 0.6306 添加后 1.0 差值： 0.36939999999999995\n",
      "V_14 正确率 0.5004 添加后 0.4995 差值: -0.0008999999999999564   |   AUC 0.6306 添加后 0.6301 差值： -0.000500000000000056\n",
      "V_26 正确率 0.5004 添加后 0.5004 差值: 0.0   |   AUC 0.6306 添加后 0.6306 差值： 0.0\n"
     ]
    }
   ],
   "source": [
    "# CATEGORY \n",
    "for col in cateCols:\n",
    "    col_ = train[[col]].values\n",
    "    oht_ = OneHotEncoder(drop='first', sparse_output=False)\n",
    "    col_ = oht_.fit_transform(col_)\n",
    "    poly = PolynomialFeatures(degree=3) \n",
    "    X = poly.fit_transform(np.concatenate((T_Y, col_), axis=1)) \n",
    "    accu, auc = scoring(X, target) \n",
    "    print(col, '正确率', base_accuracy, '添加后', accu, '差值:', accu - base_accuracy , '  |  ', 'AUC', base_auc, '添加后', auc,  '差值：', auc-base_auc)"
   ]
  },
  {
   "cell_type": "code",
   "execution_count": 128,
   "id": "8281ff90",
   "metadata": {},
   "outputs": [],
   "source": [
    "# 正确率binary=0.5004, 可以判断V_10与T,Y基本无相关性，V_10与其他变量的相关性都非常小,因此V_10属于A的可能性很大。\n",
    "#但是比较其中相关性最大的几个是V_7, V_12, V_23, V_25, V_28, V_31,这几个基本都属于GROUP7，因此也有可能属于GROUP7，暂时归为GROUP7\n",
    "GROUP7 = ['V_7', 'V_2', 'V_5', 'V_6', 'V_9', 'V_12', 'V_15', 'V_16', 'V_19', 'V_21', 'V_24', 'V_25', 'V_28', 'V_29', 'V_31', 'V_35','V_36', 'V_37', 'V_39', 'V_8', 'V_14', 'V_10']  \n",
    "GROUP_NOT7 = ['V_0', 'V_1', 'V_3', 'V_4', 'V_11', 'V_13', 'V_18', 'V_22', 'V_23', 'V_29','V_30', 'V_32', 'V_33', 'V_34', 'V_26']"
   ]
  },
  {
   "cell_type": "code",
   "execution_count": null,
   "id": "a7af1ae3",
   "metadata": {},
   "outputs": [],
   "source": []
  },
  {
   "cell_type": "code",
   "execution_count": null,
   "id": "e6d4fa04",
   "metadata": {},
   "outputs": [],
   "source": []
  },
  {
   "cell_type": "markdown",
   "id": "5d90d8d1",
   "metadata": {},
   "source": [
    "##### 对于A中['V_17', 'V_38'], 之前是基于线性相关性的判断, 可能是不准确的。有必要再使用模型进行分析"
   ]
  },
  {
   "cell_type": "code",
   "execution_count": 114,
   "id": "8c8e9c64",
   "metadata": {},
   "outputs": [],
   "source": [
    "V17V38 = pd.read_csv('./dataset/data/train.csv', usecols=['V_17', 'V_38'])"
   ]
  },
  {
   "cell_type": "code",
   "execution_count": 117,
   "id": "f6058f77",
   "metadata": {},
   "outputs": [
    {
     "data": {
      "text/plain": [
       "(-0.0039, 26.6468)"
      ]
     },
     "execution_count": 117,
     "metadata": {},
     "output_type": "execute_result"
    }
   ],
   "source": [
    "# 以V_17为target\n",
    "# target\n",
    "target = V17V38['V_17'].values\n",
    "base_r2, base_mse = scoring(X=T_Y_feature, Y=target) \n",
    "base_r2, base_mse "
   ]
  },
  {
   "cell_type": "code",
   "execution_count": 118,
   "id": "540cd220",
   "metadata": {
    "scrolled": false
   },
   "outputs": [
    {
     "name": "stdout",
     "output_type": "stream",
     "text": [
      "V_0 R2 -0.0039 添加后 -0.0112 差值: -0.0073   |   MSE 26.6468 添加后 26.8403 差值： 0.19350000000000023\n",
      "V_1 R2 -0.0039 添加后 -0.008 差值: -0.0041   |   MSE 26.6468 添加后 26.7565 差值： 0.10970000000000013\n",
      "V_2 R2 -0.0039 添加后 -0.0439 差值: -0.04   |   MSE 26.6468 添加后 27.71 差值： 1.063200000000002\n",
      "V_3 R2 -0.0039 添加后 -0.0203 差值: -0.016399999999999998   |   MSE 26.6468 添加后 27.0825 差值： 0.43570000000000064\n",
      "V_4 R2 -0.0039 添加后 -0.0184 差值: -0.014499999999999999   |   MSE 26.6468 添加后 27.032 差值： 0.3852000000000011\n",
      "V_5 R2 -0.0039 添加后 -0.007 差值: -0.0031000000000000003   |   MSE 26.6468 添加后 26.7284 差值： 0.08160000000000167\n",
      "V_6 R2 -0.0039 添加后 -0.0093 差值: -0.005399999999999999   |   MSE 26.6468 添加后 26.7894 差值： 0.14260000000000161\n",
      "V_7 R2 -0.0039 添加后 -0.0108 差值: -0.006900000000000001   |   MSE 26.6468 添加后 26.8293 差值： 0.182500000000001\n",
      "V_9 R2 -0.0039 添加后 -0.0061 差值: -0.0022000000000000006   |   MSE 26.6468 添加后 26.7068 差值： 0.060000000000002274\n",
      "V_11 R2 -0.0039 添加后 -0.0093 差值: -0.005399999999999999   |   MSE 26.6468 添加后 26.7898 差值： 0.14300000000000068\n",
      "V_12 R2 -0.0039 添加后 -0.0086 差值: -0.0047   |   MSE 26.6468 添加后 26.7723 差值： 0.1255000000000024\n",
      "V_13 R2 -0.0039 添加后 -0.0076 差值: -0.0037   |   MSE 26.6468 添加后 26.7455 差值： 0.0987000000000009\n",
      "V_15 R2 -0.0039 添加后 -0.0051 差值: -0.0012000000000000005   |   MSE 26.6468 添加后 26.6793 差值： 0.032500000000002416\n",
      "V_16 R2 -0.0039 添加后 -0.0048 差值: -0.0008999999999999998   |   MSE 26.6468 添加后 26.6716 差值： 0.024800000000002598\n",
      "V_18 R2 -0.0039 添加后 -0.0081 差值: -0.0042   |   MSE 26.6468 添加后 26.7594 差值： 0.11260000000000048\n",
      "V_19 R2 -0.0039 添加后 -0.0075 差值: -0.0036   |   MSE 26.6468 添加后 26.743 差值： 0.09619999999999962\n",
      "V_21 R2 -0.0039 添加后 -0.0073 差值: -0.0034000000000000002   |   MSE 26.6468 添加后 26.7376 差值： 0.09080000000000155\n",
      "V_22 R2 -0.0039 添加后 -0.0109 差值: -0.007   |   MSE 26.6468 添加后 26.8331 差值： 0.1863000000000028\n",
      "V_23 R2 -0.0039 添加后 -0.0121 差值: -0.008199999999999999   |   MSE 26.6468 添加后 26.8641 差值： 0.2173000000000016\n",
      "V_24 R2 -0.0039 添加后 -0.0087 差值: -0.0048   |   MSE 26.6468 添加后 26.7758 差值： 0.12900000000000134\n",
      "V_25 R2 -0.0039 添加后 -0.0074 差值: -0.0035000000000000005   |   MSE 26.6468 添加后 26.7392 差值： 0.09240000000000137\n",
      "V_28 R2 -0.0039 添加后 -0.0078 差值: -0.0039   |   MSE 26.6468 添加后 26.7504 差值： 0.10360000000000014\n",
      "V_29 R2 -0.0039 添加后 -0.0068 差值: -0.0029   |   MSE 26.6468 添加后 26.7234 差值： 0.07660000000000267\n",
      "V_30 R2 -0.0039 添加后 0.0014 差值: 0.0053   |   MSE 26.6468 添加后 26.5071 差值： -0.13969999999999771\n",
      "V_31 R2 -0.0039 添加后 -0.0111 差值: -0.007200000000000001   |   MSE 26.6468 添加后 26.8388 差值： 0.19200000000000017\n",
      "V_32 R2 -0.0039 添加后 -0.0162 差值: -0.012299999999999998   |   MSE 26.6468 添加后 26.9726 差值： 0.325800000000001\n",
      "V_33 R2 -0.0039 添加后 -0.0143 差值: -0.0104   |   MSE 26.6468 添加后 26.9241 差值： 0.2773000000000003\n",
      "V_34 R2 -0.0039 添加后 -0.0229 差值: -0.019   |   MSE 26.6468 添加后 27.1525 差值： 0.5057000000000009\n",
      "V_35 R2 -0.0039 添加后 -0.0092 差值: -0.0053   |   MSE 26.6468 添加后 26.7869 差值： 0.14010000000000034\n",
      "V_36 R2 -0.0039 添加后 -0.0091 差值: -0.005200000000000001   |   MSE 26.6468 添加后 26.7846 差值： 0.13780000000000214\n",
      "V_37 R2 -0.0039 添加后 -0.0104 差值: -0.0065   |   MSE 26.6468 添加后 26.8204 差值： 0.17360000000000042\n",
      "V_39 R2 -0.0039 添加后 -0.0091 差值: -0.005200000000000001   |   MSE 26.6468 添加后 26.7857 差值： 0.13889999999999958\n"
     ]
    }
   ],
   "source": [
    "# CONTINUOUS \n",
    "for col in contCols:\n",
    "    col_ = train[[col]].values\n",
    "    poly = PolynomialFeatures(degree=3) \n",
    "    X = poly.fit_transform(np.concatenate((T_Y, col_), axis=1)) \n",
    "    r2, mse = scoring(X, target) \n",
    "    print(col, 'R2', base_r2, '添加后', r2, '差值:', r2-base_r2 , '  |  ', 'MSE', base_mse, '添加后', mse,  '差值：', mse-base_mse)"
   ]
  },
  {
   "cell_type": "code",
   "execution_count": 119,
   "id": "87f43fe7",
   "metadata": {},
   "outputs": [],
   "source": [
    "# R2=-0.0039,说明V_17与T,Y无关, 而且可以看到差值几乎都是负值，即每个特征相对于V_17来说都是噪音，只增加了过拟合。因此可以判断V_17属于A."
   ]
  },
  {
   "cell_type": "code",
   "execution_count": 120,
   "id": "cef75db7",
   "metadata": {},
   "outputs": [
    {
     "data": {
      "text/plain": [
       "(-0.0085, 0.388)"
      ]
     },
     "execution_count": 120,
     "metadata": {},
     "output_type": "execute_result"
    }
   ],
   "source": [
    "# 以V_38为target\n",
    "# target\n",
    "target = V17V38['V_38'].values\n",
    "base_r2, base_mse = scoring(X=T_Y_feature, Y=target) \n",
    "base_r2, base_mse "
   ]
  },
  {
   "cell_type": "code",
   "execution_count": 121,
   "id": "72550d68",
   "metadata": {
    "scrolled": true
   },
   "outputs": [
    {
     "name": "stdout",
     "output_type": "stream",
     "text": [
      "V_0 R2 -0.0085 添加后 -0.01 差值: -0.0014999999999999996   |   MSE 0.388 添加后 0.3885 差值： 0.0005000000000000004\n",
      "V_1 R2 -0.0085 添加后 -0.0084 差值: 0.00010000000000000113   |   MSE 0.388 添加后 0.388 差值： 0.0\n",
      "V_2 R2 -0.0085 添加后 -0.0078 差值: 0.000700000000000001   |   MSE 0.388 添加后 0.3877 差值： -0.00030000000000002247\n",
      "V_3 R2 -0.0085 添加后 -0.0072 差值: 0.0013000000000000008   |   MSE 0.388 添加后 0.3875 差值： -0.0005000000000000004\n",
      "V_4 R2 -0.0085 添加后 -0.0058 差值: 0.002700000000000001   |   MSE 0.388 添加后 0.3869 差值： -0.0010999999999999899\n",
      "V_5 R2 -0.0085 添加后 -0.0078 差值: 0.000700000000000001   |   MSE 0.388 添加后 0.3877 差值： -0.00030000000000002247\n",
      "V_6 R2 -0.0085 添加后 -0.0079 差值: 0.0005999999999999998   |   MSE 0.388 添加后 0.3877 差值： -0.00030000000000002247\n",
      "V_7 R2 -0.0085 添加后 -0.0084 差值: 0.00010000000000000113   |   MSE 0.388 添加后 0.3879 差值： -9.999999999998899e-05\n",
      "V_9 R2 -0.0085 添加后 -0.0085 差值: 0.0   |   MSE 0.388 添加后 0.388 差值： 0.0\n",
      "V_11 R2 -0.0085 添加后 -0.0109 差值: -0.0023999999999999994   |   MSE 0.388 添加后 0.3889 差值： 0.0009000000000000119\n",
      "V_12 R2 -0.0085 添加后 -0.0102 差值: -0.0017000000000000001   |   MSE 0.388 添加后 0.3886 差值： 0.0005999999999999894\n",
      "V_13 R2 -0.0085 添加后 -0.0083 差值: 0.00020000000000000052   |   MSE 0.388 添加后 0.3879 差值： -9.999999999998899e-05\n",
      "V_15 R2 -0.0085 添加后 -0.008 差值: 0.0005000000000000004   |   MSE 0.388 添加后 0.3878 差值： -0.00020000000000003348\n",
      "V_16 R2 -0.0085 添加后 -0.0106 差值: -0.0020999999999999994   |   MSE 0.388 添加后 0.3888 差值： 0.0007999999999999674\n",
      "V_18 R2 -0.0085 添加后 -0.0071 差值: 0.0014000000000000002   |   MSE 0.388 添加后 0.3874 差值： -0.0005999999999999894\n",
      "V_19 R2 -0.0085 添加后 -0.0153 差值: -0.006799999999999999   |   MSE 0.388 添加后 0.3906 差值： 0.002599999999999991\n",
      "V_21 R2 -0.0085 添加后 -0.0073 差值: 0.0012000000000000005   |   MSE 0.388 添加后 0.3875 差值： -0.0005000000000000004\n",
      "V_22 R2 -0.0085 添加后 -0.0064 差值: 0.0021000000000000003   |   MSE 0.388 添加后 0.3872 差值： -0.0008000000000000229\n",
      "V_23 R2 -0.0085 添加后 -0.0097 差值: -0.0011999999999999997   |   MSE 0.388 添加后 0.3884 差值： 0.00040000000000001146\n",
      "V_24 R2 -0.0085 添加后 -0.0091 差值: -0.0005999999999999998   |   MSE 0.388 添加后 0.3882 差值： 0.00019999999999997797\n",
      "V_25 R2 -0.0085 添加后 -0.0083 差值: 0.00020000000000000052   |   MSE 0.388 添加后 0.3879 差值： -9.999999999998899e-05\n",
      "V_28 R2 -0.0085 添加后 -0.0074 差值: 0.0011000000000000003   |   MSE 0.388 添加后 0.3875 差值： -0.0005000000000000004\n",
      "V_29 R2 -0.0085 添加后 -0.0064 差值: 0.0021000000000000003   |   MSE 0.388 添加后 0.3872 差值： -0.0008000000000000229\n",
      "V_30 R2 -0.0085 添加后 -0.0097 差值: -0.0011999999999999997   |   MSE 0.388 添加后 0.3884 差值： 0.00040000000000001146\n",
      "V_31 R2 -0.0085 添加后 -0.0086 差值: -9.99999999999994e-05   |   MSE 0.388 添加后 0.388 差值： 0.0\n",
      "V_32 R2 -0.0085 添加后 -0.0091 差值: -0.0005999999999999998   |   MSE 0.388 添加后 0.3882 差值： 0.00019999999999997797\n",
      "V_33 R2 -0.0085 添加后 -0.0138 差值: -0.005299999999999999   |   MSE 0.388 添加后 0.39 差值： 0.0020000000000000018\n",
      "V_34 R2 -0.0085 添加后 -0.0106 差值: -0.0020999999999999994   |   MSE 0.388 添加后 0.3888 差值： 0.0007999999999999674\n",
      "V_35 R2 -0.0085 添加后 -0.0082 差值: 0.0002999999999999999   |   MSE 0.388 添加后 0.3878 差值： -0.00020000000000003348\n",
      "V_36 R2 -0.0085 添加后 -0.0087 差值: -0.0001999999999999988   |   MSE 0.388 添加后 0.3881 差值： 9.999999999998899e-05\n",
      "V_37 R2 -0.0085 添加后 -0.0099 差值: -0.0014000000000000002   |   MSE 0.388 添加后 0.3885 差值： 0.0005000000000000004\n",
      "V_39 R2 -0.0085 添加后 -0.0083 差值: 0.00020000000000000052   |   MSE 0.388 添加后 0.3879 差值： -9.999999999998899e-05\n"
     ]
    }
   ],
   "source": [
    "# CONTINUOUS \n",
    "for col in contCols:\n",
    "    col_ = train[[col]].values\n",
    "    poly = PolynomialFeatures(degree=3) \n",
    "    X = poly.fit_transform(np.concatenate((T_Y, col_), axis=1)) \n",
    "    r2, mse = scoring(X, target) \n",
    "    print(col, 'R2', base_r2, '添加后', r2, '差值:', r2-base_r2 , '  |  ', 'MSE', base_mse, '添加后', mse,  '差值：', mse-base_mse)"
   ]
  },
  {
   "cell_type": "code",
   "execution_count": 122,
   "id": "7748bfb1",
   "metadata": {},
   "outputs": [
    {
     "name": "stdout",
     "output_type": "stream",
     "text": [
      "V_8 R2 -0.0085 添加后 -0.0092 差值: -0.0006999999999999992   |   MSE 0.388 添加后 0.3883 差值： 0.00029999999999996696\n",
      "V_10 R2 -0.0085 添加后 -0.0045 差值: 0.004000000000000001   |   MSE 0.388 添加后 0.3864 差值： -0.0015999999999999903\n",
      "V_14 R2 -0.0085 添加后 -0.0088 差值: -0.0002999999999999999   |   MSE 0.388 添加后 0.3881 差值： 9.999999999998899e-05\n",
      "V_26 R2 -0.0085 添加后 -0.0085 差值: 0.0   |   MSE 0.388 添加后 0.388 差值： 0.0\n"
     ]
    }
   ],
   "source": [
    "# CATEGORY \n",
    "for col in cateCols:\n",
    "    col_ = train[[col]].values\n",
    "    oht_ = OneHotEncoder(drop='first', sparse_output=False)\n",
    "    col_ = oht_.fit_transform(col_)\n",
    "    poly = PolynomialFeatures(degree=3) \n",
    "    X = poly.fit_transform(np.concatenate((T_Y, col_), axis=1)) \n",
    "    r2, mse = scoring(X, target) \n",
    "    print(col, 'R2', base_r2, '添加后', r2, '差值:', r2-base_r2 , '  |  ', 'MSE', base_mse, '添加后', mse,  '差值：', mse-base_mse)"
   ]
  },
  {
   "cell_type": "code",
   "execution_count": 123,
   "id": "faaa37e8",
   "metadata": {},
   "outputs": [],
   "source": [
    "# R2=-0.0085,说明V_38与T,Y无关, 而且可以看到差值都在0.004以下, 与任何一个特征都没有明显的相关关系, 因此可以判断V_17属于A."
   ]
  },
  {
   "cell_type": "code",
   "execution_count": null,
   "id": "fba198f7",
   "metadata": {},
   "outputs": [],
   "source": []
  },
  {
   "cell_type": "markdown",
   "id": "53464704",
   "metadata": {},
   "source": [
    "##### 所有变量已分组。对于 GROUP7与GROUP_NOT7，只需要分别作为W进行一次因果effect测试，查看score即可判断GROUP7是WQ，GROUP_NOT7是C。"
   ]
  },
  {
   "cell_type": "code",
   "execution_count": null,
   "id": "496016b8",
   "metadata": {},
   "outputs": [],
   "source": [
    "GROUP7 = ['V_7', 'V_2', 'V_5', 'V_6', 'V_9', 'V_12', 'V_15', 'V_16', 'V_19', 'V_21', 'V_24', 'V_25', 'V_28', 'V_29', 'V_31', 'V_35','V_36', 'V_37', 'V_39', 'V_8', 'V_14', 'V_10']  \n",
    "GROUP_NOT7 = ['V_0', 'V_1', 'V_3', 'V_4', 'V_11', 'V_13', 'V_18', 'V_22', 'V_23', 'V_30', 'V_32', 'V_33', 'V_34', 'V_26']"
   ]
  },
  {
   "cell_type": "code",
   "execution_count": 129,
   "id": "5e38ca7b",
   "metadata": {},
   "outputs": [],
   "source": [
    "WQ = GROUP7\n",
    "C = GROUP_NOT7"
   ]
  },
  {
   "cell_type": "code",
   "execution_count": null,
   "id": "949d299c",
   "metadata": {},
   "outputs": [],
   "source": []
  },
  {
   "cell_type": "markdown",
   "id": "3b96105c",
   "metadata": {},
   "source": [
    "##### 分离Q"
   ]
  },
  {
   "cell_type": "code",
   "execution_count": 127,
   "id": "97830279",
   "metadata": {},
   "outputs": [],
   "source": [
    "# Q混在W中，会造成过拟合等问题，因此有必要进行分离"
   ]
  },
  {
   "cell_type": "code",
   "execution_count": 134,
   "id": "c96edf46",
   "metadata": {},
   "outputs": [],
   "source": [
    "X = pd.get_dummies(train[WQ], sparse=False, drop_first=True) "
   ]
  },
  {
   "cell_type": "code",
   "execution_count": 135,
   "id": "336141b0",
   "metadata": {},
   "outputs": [],
   "source": [
    "X_test = pd.get_dummies(test[WQ], sparse=False, drop_first=True) "
   ]
  },
  {
   "cell_type": "code",
   "execution_count": 137,
   "id": "022902d2",
   "metadata": {},
   "outputs": [],
   "source": [
    "T = pd.read_csv('./dataset/data/train.csv', usecols=['treatment']) \n",
    "T['treatment'] = T['treatment'].astype(str).rename(columns={'treatment': 'T'}) "
   ]
  },
  {
   "cell_type": "code",
   "execution_count": 140,
   "id": "1b8427f8",
   "metadata": {},
   "outputs": [],
   "source": [
    "Y = pd.read_csv('./dataset/data/train.csv', usecols=['outcome']).rename(columns={'outcome': 'Y'})"
   ]
  },
  {
   "cell_type": "code",
   "execution_count": 150,
   "id": "dd7031f3",
   "metadata": {},
   "outputs": [
    {
     "data": {
      "text/plain": [
       "((36188, 1), (36188, 22), (36188, 1), (5000, 22))"
      ]
     },
     "execution_count": 150,
     "metadata": {},
     "output_type": "execute_result"
    }
   ],
   "source": [
    "Y.shape, X.shape, T.shape, X_test.shape"
   ]
  },
  {
   "cell_type": "code",
   "execution_count": 154,
   "id": "f1623777",
   "metadata": {},
   "outputs": [],
   "source": [
    "XTY = pd.concat((X, T, Y), axis=1)\n",
    "\n",
    "XTY01 = XTY.loc[XTY['T'].isin(['0', '1'])] \n",
    "XTY02 = XTY.loc[XTY['T'].isin(['0', '2'])]  \n",
    "\n",
    "XTY01['T'] = XTY01['T'].astype('category')\n",
    "XTY02['T'] = XTY02['T'].astype('category') \n",
    "\n",
    "X_01 = XTY01.drop(columns=['T', 'Y'])\n",
    "T_01 = XTY01[['T']]\n",
    "Y_01 = XTY01[['Y']]\n",
    "X_02 = XTY02.drop(columns=['T', 'Y'])\n",
    "T_02 = XTY02[['T']]\n",
    "Y_02 = XTY02[['Y']] "
   ]
  },
  {
   "cell_type": "code",
   "execution_count": 193,
   "id": "0397e6f6",
   "metadata": {},
   "outputs": [],
   "source": [
    "optunaSearchCVParams_LGBM"
   ]
  },
  {
   "cell_type": "code",
   "execution_count": 188,
   "id": "90c883c5",
   "metadata": {},
   "outputs": [
    {
     "name": "stdout",
     "output_type": "stream",
     "text": [
      "regression\n",
      "neg_root_mean_squared_error\n",
      "Best parameters found by grid search are: {'boosting_type': 'gbdt', 'n_jobs': -1, 'learning_rate': 0.05, 'min_child_samples': 20, 'n_estimators': 3000, 'num_leaves': 10, 'objective': 'regression', 'seed': 42}\n",
      "best Score -3.49207942347328\n"
     ]
    }
   ],
   "source": [
    "params_XY01 = bayesGridSearchCVParams(X_01, Y_01, objective='regression', scoring='neg_root_mean_squared_error') \n",
    "mdl_y01 = lgb.LGBMRegressor(**params_XY01) \n",
    "# {'boosting_type': 'gbdt', 'n_jobs': -1, 'learning_rate': 0.05, 'min_child_samples': 20, 'n_estimators': 3000, 'num_leaves': 10, 'objective': 'regression', 'seed': 42}\n",
    "# best Score -3.49207942347328"
   ]
  },
  {
   "cell_type": "code",
   "execution_count": 192,
   "id": "0071bd06",
   "metadata": {},
   "outputs": [
    {
     "name": "stdout",
     "output_type": "stream",
     "text": [
      "binary\n",
      "roc_auc_ovr_weighted\n",
      "Best parameters found by grid search are: {'boosting_type': 'gbdt', 'objective': 'binary', 'class_weight': 'balanced', 'n_jobs': -1, 'learning_rate': 0.01, 'min_child_samples': 5, 'n_estimators': 500, 'num_leaves': 7, 'seed': 42}\n",
      "best Score 0.8295223110391433\n"
     ]
    }
   ],
   "source": [
    "params_XT01 = bayesGridSearchCVParams(X_01, T_01, objective='binary', scoring='roc_auc_ovr_weighted') \n",
    "mdl_t01 = lgb.LGBMClassifier(**params_XT01) \n",
    "# {'boosting_type': 'gbdt', 'objective': 'binary', 'class_weight': 'balanced', 'n_jobs': -1, 'learning_rate': 0.01, 'min_child_samples': 5, 'n_estimators': 500, 'num_leaves': 7, 'seed': 42}\n",
    "# best Score 0.8295223110391433"
   ]
  },
  {
   "cell_type": "code",
   "execution_count": 194,
   "id": "cd3bfded",
   "metadata": {},
   "outputs": [
    {
     "name": "stdout",
     "output_type": "stream",
     "text": [
      "regression\n",
      "neg_root_mean_squared_error\n",
      "Best parameters found by grid search are: {'boosting_type': 'gbdt', 'n_jobs': -1, 'learning_rate': 0.05, 'min_child_samples': 25, 'n_estimators': 3000, 'num_leaves': 10, 'objective': 'regression', 'seed': 42}\n",
      "best Score -6.684132697555242\n"
     ]
    }
   ],
   "source": [
    "params_XY02 = bayesGridSearchCVParams(X_02, Y_02, objective='regression', scoring='neg_root_mean_squared_error') \n",
    "mdl_y02 = lgb.LGBMRegressor(**params_XY02) \n",
    "# {'boosting_type': 'gbdt', 'n_jobs': -1, 'learning_rate': 0.05, 'min_child_samples': 25, 'n_estimators': 3000, 'num_leaves': 10, 'objective': 'regression', 'seed': 42}\n",
    "# best Score -6.684132697555242"
   ]
  },
  {
   "cell_type": "code",
   "execution_count": 195,
   "id": "c2f3f6b5",
   "metadata": {},
   "outputs": [
    {
     "name": "stdout",
     "output_type": "stream",
     "text": [
      "binary\n",
      "roc_auc_ovr_weighted\n",
      "Best parameters found by grid search are: {'boosting_type': 'gbdt', 'objective': 'binary', 'class_weight': 'balanced', 'n_jobs': -1, 'learning_rate': 0.01, 'min_child_samples': 20, 'n_estimators': 1000, 'num_leaves': 5, 'seed': 42}\n",
      "best Score 0.8081530413332749\n"
     ]
    }
   ],
   "source": [
    "params_XT02 = bayesGridSearchCVParams(X_02, T_02, objective='binary', scoring='roc_auc_ovr_weighted') \n",
    "mdl_t02 = lgb.LGBMClassifier(**params_XT02) \n",
    "# {'boosting_type': 'gbdt', 'objective': 'binary', 'class_weight': 'balanced', 'n_jobs': -1, 'learning_rate': 0.01, 'min_child_samples': 20, 'n_estimators': 1000, 'num_leaves': 5, 'seed': 42}\n",
    "# best Score 0.8081530413332749"
   ]
  },
  {
   "cell_type": "code",
   "execution_count": 214,
   "id": "96e78b97",
   "metadata": {},
   "outputs": [],
   "source": [
    "def calc_score_all(train_t1, train_t2, test_data_t1, test_data_t2):\n",
    "    tr = np.concatenate((train_t1.reshape(-1, 1), train_t2.reshape(-1, 1)), axis=1)\n",
    "    tr = pd.DataFrame(tr, columns=['causalTree1', 'causalTree2'])\n",
    "    target = pd.read_csv('./dataset/data/target.csv')\n",
    "    cau_tree = pd.DataFrame({'causalTree1': test_data_t1, \n",
    "                            'causalTree2': test_data_t2}) \n",
    "    cau_tree = pd.concat([tr, cau_tree], axis=0)\n",
    "    cau_tree = cau_tree.reset_index(drop=True) \n",
    "    target = target.reset_index(drop=True) \n",
    "    result = pd.concat([target, cau_tree], axis=1)\n",
    "    def cal_metric(result):\n",
    "        r = np.sqrt(np.sum((result.ce_1 - result.causalTree1)**2)/result.shape[0])/result.ce_1.mean() + \\\n",
    "            np.sqrt(np.sum((result.ce_2 - result.causalTree2)**2)/result.shape[0])/result.ce_2.mean()\n",
    "        return r \n",
    "    return cal_metric(result) \n",
    "\n",
    "\n",
    "def effectScoring(drop_col=[]):\n",
    "    n_est = 500\n",
    "    min_samp_split = 200\n",
    "    max_feat = 0.9\n",
    "    max_dep = 6\n",
    "    max_samp = 0.3\n",
    "    est01 = CausalForestDML( \n",
    "                    model_y = mdl_y01, model_t = mdl_t01,\n",
    "                    discrete_treatment =True, \n",
    "                    categories =['0', '1'], \n",
    "                    mc_iters =4, mc_agg = 'mean', \n",
    "                    drate =True,\n",
    "                    criterion ='mse', \n",
    "                    featurizer = None, \n",
    "                    max_depth = max_dep, \n",
    "                    n_estimators = n_est, \n",
    "                    min_samples_split = min_samp_split, \n",
    "                    max_samples = max_samp, \n",
    "                    honest=True, \n",
    "    #                                     min_weight_fraction_leaf = 0.01 ,\n",
    "    #                                     min_var_leaf_on_val = False , \n",
    "                    inference =True,\n",
    "                    max_features = max_feat,\n",
    "                    n_jobs =-1, \n",
    "                    random_state =2023,\n",
    "                    verbose =0 ) \n",
    "\n",
    "    est02 = CausalForestDML( \n",
    "                    model_y = mdl_y02, model_t = mdl_t02,\n",
    "                    discrete_treatment =True, \n",
    "                    categories =['0', '2'], \n",
    "                    mc_iters =4, mc_agg = 'mean', \n",
    "                    drate = True,\n",
    "                    criterion ='het', \n",
    "                    featurizer = None,\n",
    "                    max_depth = max_dep, \n",
    "                    n_estimators = n_est, \n",
    "                    min_samples_split = min_samp_split, \n",
    "                    max_samples = max_samp,\n",
    "                    honest=True, \n",
    "    #                                     min_weight_fraction_leaf = 0.01 ,\n",
    "    #                                     min_var_leaf_on_val = False , \n",
    "                    inference =True,\n",
    "                    max_features = max_feat,\n",
    "                    n_jobs =-1, \n",
    "                    random_state =2023,\n",
    "                    verbose =0 ) \n",
    "    est01.fit(Y=Y_01, T=T_01, X=X_01.drop(columns=drop_col))\n",
    "    est02.fit(Y=Y_02, T=T_02, X=X_02.drop(columns=drop_col))\n",
    "    test_t01 = est01.effect(X=X_test.drop(columns=drop_col), T0='0', T1='1') \n",
    "    test_t02 = est02.effect(X=X_test.drop(columns=drop_col), T0='0', T1='2') \n",
    "    X_t01 = est01.effect(X=X.drop(columns=drop_col), T0='0', T1='1')  \n",
    "    X_t02 = est02.effect(X=X.drop(columns=drop_col), T0='0', T1='2') \n",
    "    score = calc_score_all(X_t01.reshape(-1), X_t02.reshape(-1), test_t01.reshape(-1), test_t02.reshape(-1)) \n",
    "    impt = pd.DataFrame({'feature': X.drop(columns=drop_col).columns, 'est01_impt': est01.feature_importances().reshape(-1), 'est02_impt': est02.feature_importances().reshape(-1)})\n",
    "    return score, impt "
   ]
  },
  {
   "cell_type": "markdown",
   "id": "368592e3",
   "metadata": {},
   "source": [
    "##### 不删除特征，作为baseline"
   ]
  },
  {
   "cell_type": "code",
   "execution_count": 215,
   "id": "a8560c17",
   "metadata": {},
   "outputs": [
    {
     "data": {
      "text/plain": [
       "0.5786827957710141"
      ]
     },
     "execution_count": 215,
     "metadata": {},
     "output_type": "execute_result"
    }
   ],
   "source": [
    "score, impt = effectScoring(drop_col=[]) \n",
    "score"
   ]
  },
  {
   "cell_type": "code",
   "execution_count": 221,
   "id": "79697281",
   "metadata": {},
   "outputs": [],
   "source": [
    "impt['mean_'] = impt.mean(axis=1)"
   ]
  },
  {
   "cell_type": "code",
   "execution_count": 224,
   "id": "a5c46942",
   "metadata": {},
   "outputs": [
    {
     "data": {
      "text/html": [
       "<div>\n",
       "<style scoped>\n",
       "    .dataframe tbody tr th:only-of-type {\n",
       "        vertical-align: middle;\n",
       "    }\n",
       "\n",
       "    .dataframe tbody tr th {\n",
       "        vertical-align: top;\n",
       "    }\n",
       "\n",
       "    .dataframe thead th {\n",
       "        text-align: right;\n",
       "    }\n",
       "</style>\n",
       "<table border=\"1\" class=\"dataframe\">\n",
       "  <thead>\n",
       "    <tr style=\"text-align: right;\">\n",
       "      <th></th>\n",
       "      <th>feature</th>\n",
       "      <th>est01_impt</th>\n",
       "      <th>est02_impt</th>\n",
       "      <th>mean_</th>\n",
       "    </tr>\n",
       "  </thead>\n",
       "  <tbody>\n",
       "    <tr>\n",
       "      <th>12</th>\n",
       "      <td>V_28</td>\n",
       "      <td>0.893968</td>\n",
       "      <td>8.358123e-01</td>\n",
       "      <td>0.864890</td>\n",
       "    </tr>\n",
       "    <tr>\n",
       "      <th>19</th>\n",
       "      <td>V_8_yes</td>\n",
       "      <td>0.041898</td>\n",
       "      <td>1.000222e-01</td>\n",
       "      <td>0.070960</td>\n",
       "    </tr>\n",
       "    <tr>\n",
       "      <th>4</th>\n",
       "      <td>V_9</td>\n",
       "      <td>0.003370</td>\n",
       "      <td>4.099382e-02</td>\n",
       "      <td>0.022182</td>\n",
       "    </tr>\n",
       "    <tr>\n",
       "      <th>13</th>\n",
       "      <td>V_29</td>\n",
       "      <td>0.019856</td>\n",
       "      <td>1.059657e-04</td>\n",
       "      <td>0.009981</td>\n",
       "    </tr>\n",
       "    <tr>\n",
       "      <th>6</th>\n",
       "      <td>V_15</td>\n",
       "      <td>0.001081</td>\n",
       "      <td>1.349302e-02</td>\n",
       "      <td>0.007287</td>\n",
       "    </tr>\n",
       "    <tr>\n",
       "      <th>15</th>\n",
       "      <td>V_35</td>\n",
       "      <td>0.010155</td>\n",
       "      <td>1.400274e-04</td>\n",
       "      <td>0.005148</td>\n",
       "    </tr>\n",
       "    <tr>\n",
       "      <th>0</th>\n",
       "      <td>V_7</td>\n",
       "      <td>0.006804</td>\n",
       "      <td>3.003210e-03</td>\n",
       "      <td>0.004904</td>\n",
       "    </tr>\n",
       "    <tr>\n",
       "      <th>7</th>\n",
       "      <td>V_16</td>\n",
       "      <td>0.003109</td>\n",
       "      <td>4.254194e-03</td>\n",
       "      <td>0.003682</td>\n",
       "    </tr>\n",
       "    <tr>\n",
       "      <th>10</th>\n",
       "      <td>V_24</td>\n",
       "      <td>0.002795</td>\n",
       "      <td>4.752790e-05</td>\n",
       "      <td>0.001421</td>\n",
       "    </tr>\n",
       "    <tr>\n",
       "      <th>14</th>\n",
       "      <td>V_31</td>\n",
       "      <td>0.002750</td>\n",
       "      <td>3.007107e-05</td>\n",
       "      <td>0.001390</td>\n",
       "    </tr>\n",
       "    <tr>\n",
       "      <th>11</th>\n",
       "      <td>V_25</td>\n",
       "      <td>0.000990</td>\n",
       "      <td>1.772337e-03</td>\n",
       "      <td>0.001381</td>\n",
       "    </tr>\n",
       "    <tr>\n",
       "      <th>16</th>\n",
       "      <td>V_36</td>\n",
       "      <td>0.002354</td>\n",
       "      <td>7.004364e-05</td>\n",
       "      <td>0.001212</td>\n",
       "    </tr>\n",
       "    <tr>\n",
       "      <th>3</th>\n",
       "      <td>V_6</td>\n",
       "      <td>0.002152</td>\n",
       "      <td>5.223104e-05</td>\n",
       "      <td>0.001102</td>\n",
       "    </tr>\n",
       "    <tr>\n",
       "      <th>5</th>\n",
       "      <td>V_12</td>\n",
       "      <td>0.001800</td>\n",
       "      <td>2.160788e-05</td>\n",
       "      <td>0.000911</td>\n",
       "    </tr>\n",
       "    <tr>\n",
       "      <th>8</th>\n",
       "      <td>V_19</td>\n",
       "      <td>0.001724</td>\n",
       "      <td>2.297774e-05</td>\n",
       "      <td>0.000874</td>\n",
       "    </tr>\n",
       "    <tr>\n",
       "      <th>17</th>\n",
       "      <td>V_37</td>\n",
       "      <td>0.001181</td>\n",
       "      <td>8.198151e-05</td>\n",
       "      <td>0.000631</td>\n",
       "    </tr>\n",
       "    <tr>\n",
       "      <th>2</th>\n",
       "      <td>V_5</td>\n",
       "      <td>0.001175</td>\n",
       "      <td>9.974187e-06</td>\n",
       "      <td>0.000592</td>\n",
       "    </tr>\n",
       "    <tr>\n",
       "      <th>9</th>\n",
       "      <td>V_21</td>\n",
       "      <td>0.001125</td>\n",
       "      <td>4.174651e-05</td>\n",
       "      <td>0.000583</td>\n",
       "    </tr>\n",
       "    <tr>\n",
       "      <th>18</th>\n",
       "      <td>V_39</td>\n",
       "      <td>0.000977</td>\n",
       "      <td>1.494572e-05</td>\n",
       "      <td>0.000496</td>\n",
       "    </tr>\n",
       "    <tr>\n",
       "      <th>20</th>\n",
       "      <td>V_14_yes</td>\n",
       "      <td>0.000336</td>\n",
       "      <td>7.995550e-06</td>\n",
       "      <td>0.000172</td>\n",
       "    </tr>\n",
       "    <tr>\n",
       "      <th>1</th>\n",
       "      <td>V_2</td>\n",
       "      <td>0.000276</td>\n",
       "      <td>7.157853e-07</td>\n",
       "      <td>0.000138</td>\n",
       "    </tr>\n",
       "    <tr>\n",
       "      <th>21</th>\n",
       "      <td>V_10_yes</td>\n",
       "      <td>0.000123</td>\n",
       "      <td>1.009103e-06</td>\n",
       "      <td>0.000062</td>\n",
       "    </tr>\n",
       "  </tbody>\n",
       "</table>\n",
       "</div>"
      ],
      "text/plain": [
       "     feature  est01_impt    est02_impt     mean_\n",
       "12      V_28    0.893968  8.358123e-01  0.864890\n",
       "19   V_8_yes    0.041898  1.000222e-01  0.070960\n",
       "4        V_9    0.003370  4.099382e-02  0.022182\n",
       "13      V_29    0.019856  1.059657e-04  0.009981\n",
       "6       V_15    0.001081  1.349302e-02  0.007287\n",
       "15      V_35    0.010155  1.400274e-04  0.005148\n",
       "0        V_7    0.006804  3.003210e-03  0.004904\n",
       "7       V_16    0.003109  4.254194e-03  0.003682\n",
       "10      V_24    0.002795  4.752790e-05  0.001421\n",
       "14      V_31    0.002750  3.007107e-05  0.001390\n",
       "11      V_25    0.000990  1.772337e-03  0.001381\n",
       "16      V_36    0.002354  7.004364e-05  0.001212\n",
       "3        V_6    0.002152  5.223104e-05  0.001102\n",
       "5       V_12    0.001800  2.160788e-05  0.000911\n",
       "8       V_19    0.001724  2.297774e-05  0.000874\n",
       "17      V_37    0.001181  8.198151e-05  0.000631\n",
       "2        V_5    0.001175  9.974187e-06  0.000592\n",
       "9       V_21    0.001125  4.174651e-05  0.000583\n",
       "18      V_39    0.000977  1.494572e-05  0.000496\n",
       "20  V_14_yes    0.000336  7.995550e-06  0.000172\n",
       "1        V_2    0.000276  7.157853e-07  0.000138\n",
       "21  V_10_yes    0.000123  1.009103e-06  0.000062"
      ]
     },
     "execution_count": 224,
     "metadata": {},
     "output_type": "execute_result"
    }
   ],
   "source": [
    "impt.sort_values(by=['mean_'], ascending=False) "
   ]
  },
  {
   "cell_type": "code",
   "execution_count": 226,
   "id": "29c0ba60",
   "metadata": {},
   "outputs": [],
   "source": [
    "# 寻找去掉后会让score(rmse)上升的col"
   ]
  },
  {
   "cell_type": "code",
   "execution_count": 228,
   "id": "b47e1ca4",
   "metadata": {},
   "outputs": [
    {
     "name": "stdout",
     "output_type": "stream",
     "text": [
      "V_7 0.5786827957710141 0.5509293308430183 0.027753464927995797\n",
      "V_2 0.5786827957710141 1.0046912896436664 -0.42600849387265227\n",
      "V_5 0.5786827957710141 0.675079872658146 -0.09639707688713184\n",
      "V_6 0.5786827957710141 0.6275035699059258 -0.048820774134911704\n",
      "V_9 0.5786827957710141 0.605398058036306 -0.02671526226529186\n",
      "V_12 0.5786827957710141 0.5919675616614448 -0.013284765890430705\n",
      "V_15 0.5786827957710141 0.6045067876757677 -0.025823991904753596\n",
      "V_16 0.5786827957710141 0.58553023029078 -0.006847434519765883\n",
      "V_19 0.5786827957710141 0.6900099576870573 -0.1113271619160432\n",
      "V_21 0.5786827957710141 0.5704589122663037 0.008223883504710372\n",
      "V_24 0.5786827957710141 0.5597717895661668 0.018911006204847314\n",
      "V_25 0.5786827957710141 0.5621243071298525 0.016558488641161606\n",
      "V_28 0.5786827957710141 1.6689533512835797 -1.0902705555125656\n",
      "V_29 0.5786827957710141 0.45094637331559606 0.12773642245541805\n",
      "V_31 0.5786827957710141 0.5768889541185872 0.0017938416524269085\n",
      "V_35 0.5786827957710141 0.4783327210522406 0.1003500747187735\n",
      "V_36 0.5786827957710141 0.5778342206136821 0.0008485751573320544\n",
      "V_37 0.5786827957710141 0.5711285267361677 0.007554269034846461\n",
      "V_39 0.5786827957710141 0.6388870691016082 -0.06020427333059408\n",
      "V_8_yes 0.5786827957710141 0.6438845175920758 -0.06520172182106165\n",
      "V_14_yes 0.5786827957710141 0.7249248934946843 -0.14624209772367014\n",
      "V_10_yes 0.5786827957710141 0.5387528321278758 0.03992996364313828\n"
     ]
    }
   ],
   "source": [
    "for COL in X.columns:\n",
    "    score_, _ = effectScoring(drop_col=[COL])\n",
    "    print(COL, score, score_, score - score_) "
   ]
  },
  {
   "cell_type": "code",
   "execution_count": 230,
   "id": "e6b10bd9",
   "metadata": {},
   "outputs": [],
   "source": [
    "# 选出去掉后score上升的col,是W\n",
    "W = ['V_2', 'V_5', 'V_6', 'V_9', 'V_12', 'V_15', 'V_16', 'V_19', 'V_28', 'V_39', 'V_8_yes', 'V_14_yes'] "
   ]
  },
  {
   "cell_type": "code",
   "execution_count": 232,
   "id": "93208b1c",
   "metadata": {},
   "outputs": [
    {
     "data": {
      "text/plain": [
       "['V_7',\n",
       " 'V_36',\n",
       " 'V_29',\n",
       " 'V_10_yes',\n",
       " 'V_31',\n",
       " 'V_24',\n",
       " 'V_37',\n",
       " 'V_25',\n",
       " 'V_21',\n",
       " 'V_35']"
      ]
     },
     "execution_count": 232,
     "metadata": {},
     "output_type": "execute_result"
    }
   ],
   "source": [
    "Q = list(set(X.columns) - set(W)) \n",
    "Q"
   ]
  },
  {
   "cell_type": "code",
   "execution_count": 231,
   "id": "9331c373",
   "metadata": {},
   "outputs": [],
   "source": [
    "# 测试W中是否还有可以去掉的col"
   ]
  },
  {
   "cell_type": "code",
   "execution_count": 235,
   "id": "6f1e65e1",
   "metadata": {},
   "outputs": [
    {
     "name": "stdout",
     "output_type": "stream",
     "text": [
      "regression\n",
      "neg_root_mean_squared_error\n",
      "Best parameters found by grid search are: {'boosting_type': 'gbdt', 'n_jobs': -1, 'learning_rate': 0.05, 'min_child_samples': 20, 'n_estimators': 3000, 'num_leaves': 7, 'objective': 'regression', 'seed': 42}\n",
      "best Score -4.311032298749282\n",
      "binary\n",
      "roc_auc_ovr_weighted\n",
      "Best parameters found by grid search are: {'boosting_type': 'gbdt', 'objective': 'binary', 'class_weight': 'balanced', 'n_jobs': -1, 'learning_rate': 0.01, 'min_child_samples': 40, 'n_estimators': 1000, 'num_leaves': 5, 'seed': 42}\n",
      "best Score 0.7317619702774817\n",
      "regression\n",
      "neg_root_mean_squared_error\n",
      "Best parameters found by grid search are: {'boosting_type': 'gbdt', 'n_jobs': -1, 'learning_rate': 0.05, 'min_child_samples': 25, 'n_estimators': 3000, 'num_leaves': 7, 'objective': 'regression', 'seed': 42}\n",
      "best Score -7.342854831330254\n",
      "binary\n",
      "roc_auc_ovr_weighted\n",
      "Best parameters found by grid search are: {'boosting_type': 'gbdt', 'objective': 'binary', 'class_weight': 'balanced', 'n_jobs': -1, 'learning_rate': 0.01, 'min_child_samples': 20, 'n_estimators': 500, 'num_leaves': 5, 'seed': 42}\n",
      "best Score 0.7248176860700298\n"
     ]
    }
   ],
   "source": [
    "# 特征变化较大，重新寻找DML模型参数\n",
    "params_XY01 = bayesGridSearchCVParams(X_01.drop(columns=Q), Y_01, objective='regression', scoring='neg_root_mean_squared_error') \n",
    "mdl_y01 = lgb.LGBMRegressor(**params_XY01) \n",
    "params_XT01 = bayesGridSearchCVParams(X_01.drop(columns=Q), T_01, objective='binary', scoring='roc_auc_ovr_weighted') \n",
    "mdl_t01 = lgb.LGBMClassifier(**params_XT01) \n",
    "params_XY02 = bayesGridSearchCVParams(X_02.drop(columns=Q), Y_02, objective='regression', scoring='neg_root_mean_squared_error') \n",
    "mdl_y02 = lgb.LGBMRegressor(**params_XY02) \n",
    "params_XT02 = bayesGridSearchCVParams(X_02.drop(columns=Q), T_02, objective='binary', scoring='roc_auc_ovr_weighted') \n",
    "mdl_t02 = lgb.LGBMClassifier(**params_XT02) "
   ]
  },
  {
   "cell_type": "code",
   "execution_count": 236,
   "id": "fd72b843",
   "metadata": {},
   "outputs": [
    {
     "data": {
      "text/plain": [
       "0.4180750415482729"
      ]
     },
     "execution_count": 236,
     "metadata": {},
     "output_type": "execute_result"
    }
   ],
   "source": [
    "# baseline\n",
    "score, _ = effectScoring(drop_col= Q) \n",
    "score "
   ]
  },
  {
   "cell_type": "code",
   "execution_count": 238,
   "id": "8bd417b5",
   "metadata": {},
   "outputs": [
    {
     "name": "stdout",
     "output_type": "stream",
     "text": [
      "V_2 0.4180750415482729 0.9015014996366605 -0.4834264580883876\n",
      "V_5 0.4180750415482729 0.4659778048718883 -0.04790276332361537\n",
      "V_6 0.4180750415482729 0.44829809642615454 -0.030223054877881628\n",
      "V_9 0.4180750415482729 0.43023162362925377 -0.01215658208098086\n",
      "V_12 0.4180750415482729 0.3987178993856971 0.01935714216257578\n",
      "V_15 0.4180750415482729 0.4866714523073882 -0.06859641075911527\n",
      "V_16 0.4180750415482729 0.43184764448146357 -0.013772602933190659\n",
      "V_19 0.4180750415482729 0.46846869958343834 -0.050393658035165434\n",
      "V_28 0.4180750415482729 1.6688897605000355 -1.2508147189517627\n",
      "V_39 0.4180750415482729 0.7054320006989545 -0.2873569591506816\n",
      "V_8_yes 0.4180750415482729 0.44564286409970816 -0.02756782255143525\n",
      "V_14_yes 0.4180750415482729 0.4412551555163994 -0.02318011396812647\n"
     ]
    }
   ],
   "source": [
    "for COL in W:\n",
    "    score_, _ = effectScoring(drop_col= Q+[COL])\n",
    "    print(COL, score, score_, score - score_) "
   ]
  },
  {
   "cell_type": "code",
   "execution_count": 239,
   "id": "90ced4c3",
   "metadata": {},
   "outputs": [],
   "source": [
    "# V_12会使得效果变差，V_12放入Q\n",
    "Q.append('V_12')"
   ]
  },
  {
   "cell_type": "code",
   "execution_count": 272,
   "id": "70df17a1",
   "metadata": {},
   "outputs": [
    {
     "data": {
      "text/plain": [
       "['V_7',\n",
       " 'V_36',\n",
       " 'V_29',\n",
       " 'V_10_yes',\n",
       " 'V_31',\n",
       " 'V_24',\n",
       " 'V_37',\n",
       " 'V_25',\n",
       " 'V_21',\n",
       " 'V_35',\n",
       " 'V_12']"
      ]
     },
     "execution_count": 272,
     "metadata": {},
     "output_type": "execute_result"
    }
   ],
   "source": [
    "Q"
   ]
  },
  {
   "cell_type": "code",
   "execution_count": 241,
   "id": "52e9198a",
   "metadata": {},
   "outputs": [],
   "source": [
    "# 继续尝试一个一个加入Q中的列，看是否有可以提升的col"
   ]
  },
  {
   "cell_type": "code",
   "execution_count": 303,
   "id": "4f5825de",
   "metadata": {},
   "outputs": [
    {
     "data": {
      "text/plain": [
       "0.3987178993856971"
      ]
     },
     "execution_count": 303,
     "metadata": {},
     "output_type": "execute_result"
    }
   ],
   "source": [
    "# baseline\n",
    "score, _ = effectScoring(drop_col= Q) \n",
    "score "
   ]
  },
  {
   "cell_type": "code",
   "execution_count": 243,
   "id": "3c4e0168",
   "metadata": {},
   "outputs": [
    {
     "name": "stdout",
     "output_type": "stream",
     "text": [
      "V_7 0.3987178993856971 0.402004789784523 -0.003286890398825848\n",
      "V_36 0.3987178993856971 0.4015163064301209 -0.002798407044423745\n",
      "V_29 0.3987178993856971 0.4039540411465069 -0.005236141760809776\n",
      "V_10_yes 0.3987178993856971 0.4119830617929365 -0.01326516240723935\n",
      "V_31 0.3987178993856971 0.4075418959693545 -0.008823996583657345\n",
      "V_24 0.3987178993856971 0.4147020502663473 -0.015984150880650194\n",
      "V_37 0.3987178993856971 0.39860001502690645 0.00011788435879067638\n",
      "V_25 0.3987178993856971 0.39877787309025603 -5.997370455890216e-05\n",
      "V_21 0.3987178993856971 0.4208780740000642 -0.02216017461436709\n",
      "V_35 0.3987178993856971 0.4323003094631213 -0.033582410077424185\n",
      "V_12 0.3987178993856971 0.4180750415482729 -0.01935714216257578\n"
     ]
    }
   ],
   "source": [
    "for COL in Q:\n",
    "    score_, _ = effectScoring(drop_col= list(set(Q)-set([COL])))\n",
    "    print(COL, score, score_, score - score_) "
   ]
  },
  {
   "cell_type": "code",
   "execution_count": 244,
   "id": "0cd7ba26",
   "metadata": {},
   "outputs": [],
   "source": [
    "# 加入Q中特征没有提升"
   ]
  },
  {
   "cell_type": "code",
   "execution_count": 245,
   "id": "2af6b47c",
   "metadata": {},
   "outputs": [],
   "source": [
    "# 尝试加入C中特征"
   ]
  },
  {
   "cell_type": "code",
   "execution_count": 316,
   "id": "120cb1ef",
   "metadata": {},
   "outputs": [],
   "source": [
    "C_train = train[C]\n",
    "C_test = test[C] \n",
    "C_train = pd.get_dummies(C_train, sparse=False, drop_first=True) \n",
    "C_test = pd.get_dummies(C_test, sparse=False, drop_first=True) \n",
    "XTY_C = pd.concat([C_train, T, Y], axis=1) \n",
    "\n",
    "XTY_C01 = XTY_C.loc[XTY_C['T'].isin(['0', '1'])] \n",
    "XTY_C02 = XTY_C.loc[XTY_C['T'].isin(['0', '2'])]  \n",
    "\n",
    "XTY_C01['T'] = XTY_C01['T'].astype('category')\n",
    "XTY_C02['T'] = XTY_C02['T'].astype('category') \n",
    "\n",
    "X_01_C = XTY_C01.drop(columns=['T', 'Y'])\n",
    "T_01_C = XTY_C01[['T']]\n",
    "Y_01_C = XTY_C01[['Y']]\n",
    "X_02_C = XTY_C02.drop(columns=['T', 'Y'])\n",
    "T_02_C = XTY_C02[['T']]\n",
    "Y_02_C = XTY_C02[['Y']] \n",
    "C.remove('V_26')\n",
    "C.append('V_26_yes') "
   ]
  },
  {
   "cell_type": "code",
   "execution_count": 321,
   "id": "f016e0cc",
   "metadata": {},
   "outputs": [
    {
     "data": {
      "text/plain": [
       "((36188, 14),\n",
       " (5000, 14),\n",
       " (15635, 14),\n",
       " (15635, 1),\n",
       " (15635, 1),\n",
       " (34474, 14),\n",
       " (34474, 1),\n",
       " (34474, 1))"
      ]
     },
     "execution_count": 321,
     "metadata": {},
     "output_type": "execute_result"
    }
   ],
   "source": [
    "C_train.shape, C_test.shape, X_01_C.shape, T_01_C.shape, Y_01_C.shape, X_02_C.shape, T_02_C.shape, Y_02_C.shape"
   ]
  },
  {
   "cell_type": "code",
   "execution_count": 332,
   "id": "ed61d193",
   "metadata": {},
   "outputs": [
    {
     "name": "stdout",
     "output_type": "stream",
     "text": [
      "V_0 0.3987178993856971 0.3940355498958525 0.004682349489844639\n",
      "V_1 0.3987178993856971 0.45111177265948527 -0.05239387327378814\n",
      "V_3 0.3987178993856971 0.41813688933210663 -0.019418989946409504\n",
      "V_4 0.3987178993856971 0.40470835220375123 -0.005990452818054104\n",
      "V_11 0.3987178993856971 0.44405603505502095 -0.04533813566932382\n",
      "V_13 0.3987178993856971 0.4295711097392072 -0.030853210353510074\n",
      "V_18 0.3987178993856971 0.7056967682956178 -0.30697886890992065\n",
      "V_22 0.3987178993856971 0.3890049352222517 0.009712964163445414\n",
      "V_23 0.3987178993856971 0.39902191915630353 -0.00030401977060640073\n",
      "V_30 0.3987178993856971 2.8057812000103293 -2.4070633006246323\n",
      "V_32 0.3987178993856971 3.196416731459068 -2.797698832073371\n",
      "V_33 0.3987178993856971 0.44246127397975205 -0.04374337459405492\n",
      "V_34 0.3987178993856971 0.42984180112657167 -0.031123901740874538\n",
      "V_26_yes 0.3987178993856971 0.3970896946720463 0.001628204713650827\n"
     ]
    }
   ],
   "source": [
    "for COL in C:\n",
    "    X_01 = pd.concat([X_01, X_01_C[[COL]]], axis=1)\n",
    "    X_02 = pd.concat([X_02, X_02_C[[COL]]], axis=1)\n",
    "    X_test = pd.concat([X_test, C_test[[COL]]], axis=1) \n",
    "    X = pd.concat([X, C_train[[COL]]], axis=1)\n",
    "    score_, _ = effectScoring(drop_col= Q)\n",
    "    print(COL, score, score_, score - score_) \n",
    "    X_01 = X_01.drop(columns=[COL])\n",
    "    X_02 = X_02.drop(columns=[COL])\n",
    "    X_test = X_test.drop(columns=[COL])\n",
    "    X = X.drop(columns=[COL])\n",
    "    "
   ]
  },
  {
   "cell_type": "code",
   "execution_count": 338,
   "id": "fe5af1f2",
   "metadata": {},
   "outputs": [],
   "source": [
    "# C中的V_22有充分的理由属于C, 且增加V_22对结果的提升很小, V_0,V_26_yes同理, 因此C中没有判断错误的列, 没有可以加入W的列。"
   ]
  },
  {
   "cell_type": "code",
   "execution_count": 341,
   "id": "a5ad5cd7",
   "metadata": {
    "scrolled": true
   },
   "outputs": [
    {
     "data": {
      "text/plain": [
       "(['V_2',\n",
       "  'V_5',\n",
       "  'V_6',\n",
       "  'V_9',\n",
       "  'V_12',\n",
       "  'V_15',\n",
       "  'V_16',\n",
       "  'V_19',\n",
       "  'V_28',\n",
       "  'V_39',\n",
       "  'V_8_yes',\n",
       "  'V_14_yes'],\n",
       " ['V_7',\n",
       "  'V_36',\n",
       "  'V_10_yes',\n",
       "  'V_31',\n",
       "  'V_24',\n",
       "  'V_37',\n",
       "  'V_25',\n",
       "  'V_21',\n",
       "  'V_35',\n",
       "  'V_12',\n",
       "  'V_29'],\n",
       " ['V_0',\n",
       "  'V_1',\n",
       "  'V_3',\n",
       "  'V_4',\n",
       "  'V_11',\n",
       "  'V_13',\n",
       "  'V_18',\n",
       "  'V_22',\n",
       "  'V_23',\n",
       "  'V_30',\n",
       "  'V_32',\n",
       "  'V_33',\n",
       "  'V_34',\n",
       "  'V_26_yes'])"
      ]
     },
     "execution_count": 341,
     "metadata": {},
     "output_type": "execute_result"
    }
   ],
   "source": [
    "# 最终结果\n",
    "W, Q, C"
   ]
  },
  {
   "cell_type": "markdown",
   "id": "4b70617e",
   "metadata": {},
   "source": [
    "##### 标准化后保存最优特征"
   ]
  },
  {
   "cell_type": "code",
   "execution_count": 345,
   "id": "8cf41137",
   "metadata": {},
   "outputs": [],
   "source": [
    "std_scaler = StandardScaler() \n",
    "X_W_std = std_scaler.fit_transform(XTY[W]) "
   ]
  },
  {
   "cell_type": "code",
   "execution_count": 348,
   "id": "86861f2a",
   "metadata": {},
   "outputs": [],
   "source": [
    "pd.DataFrame(X_W_std, columns=W).to_csv('./dataset/data/best2/X.csv') \n",
    "X_test_W_std = std_scaler.transform(X_test[W]) \n",
    "pd.DataFrame(X_test_W_std, columns=W).to_csv('./dataset/data/best2/test.csv') "
   ]
  },
  {
   "cell_type": "code",
   "execution_count": 356,
   "id": "632a7c14",
   "metadata": {},
   "outputs": [],
   "source": [
    "# WQCA分类完成\n",
    "# 分类结果与之前尝试的结果(./dataset/data/best)有些不同，少V_31, V_10_no, 多了V_6, V_16, 可能原因是这些特征间本身有共线性，可以互相代替，在DML参数不同的条件下，会选出不同的特征\n",
    "# 从上面出来的结果看，再微调参数后，最终结果应该会不错"
   ]
  },
  {
   "cell_type": "code",
   "execution_count": null,
   "id": "a66583af",
   "metadata": {},
   "outputs": [],
   "source": []
  }
 ],
 "metadata": {
  "kernelspec": {
   "display_name": "econml",
   "language": "python",
   "name": "econml"
  },
  "language_info": {
   "codemirror_mode": {
    "name": "ipython",
    "version": 3
   },
   "file_extension": ".py",
   "mimetype": "text/x-python",
   "name": "python",
   "nbconvert_exporter": "python",
   "pygments_lexer": "ipython3",
   "version": "3.9.18"
  },
  "nbTranslate": {
   "displayLangs": [
    "*"
   ],
   "hotkey": "alt-t",
   "langInMainMenu": true,
   "sourceLang": "en",
   "targetLang": "fr",
   "useGoogleTranslate": true
  },
  "varInspector": {
   "cols": {
    "lenName": 16,
    "lenType": 16,
    "lenVar": 40
   },
   "kernels_config": {
    "python": {
     "delete_cmd_postfix": "",
     "delete_cmd_prefix": "del ",
     "library": "var_list.py",
     "varRefreshCmd": "print(var_dic_list())"
    },
    "r": {
     "delete_cmd_postfix": ") ",
     "delete_cmd_prefix": "rm(",
     "library": "var_list.r",
     "varRefreshCmd": "cat(var_dic_list()) "
    }
   },
   "types_to_exclude": [
    "module",
    "function",
    "builtin_function_or_method",
    "instance",
    "_Feature"
   ],
   "window_display": false
  }
 },
 "nbformat": 4,
 "nbformat_minor": 5
}
