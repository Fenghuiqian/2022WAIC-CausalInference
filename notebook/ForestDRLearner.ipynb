{
 "cells": [
  {
   "cell_type": "code",
   "execution_count": 1,
   "id": "361afb85",
   "metadata": {
    "scrolled": false
   },
   "outputs": [],
   "source": [
    "import pandas as pd\n",
    "import numpy as np\n",
    "# import torch\n",
    "# import torch.nn as nn\n",
    "import warnings\n",
    "warnings.filterwarnings('ignore')\n",
    "from sklearn.preprocessing import OrdinalEncoder, StandardScaler\n",
    "from sklearn.ensemble import RandomForestClassifier, RandomForestRegressor\n",
    "import lightgbm as lgb\n",
    "from econml.orf import DMLOrthoForest\n",
    "from econml.orf import DMLOrthoForest\n",
    "from econml.sklearn_extensions.linear_model import WeightedLasso\n",
    "import matplotlib.pyplot as plt\n",
    "from sklearn.model_selection import GridSearchCV\n",
    "from skopt import BayesSearchCV\n",
    "from skopt.space import Real, Categorical, Integer\n",
    "from sklearn.model_selection import train_test_split\n",
    "np.random.seed(2023) \n",
    "import seaborn as sns\n",
    "from sklearn.preprocessing import PolynomialFeatures\n",
    "from sklearn.metrics import r2_score\n",
    "from sklearn.preprocessing import OneHotEncoder, LabelEncoder\n",
    "from sklearn.metrics import mean_squared_error \n",
    "import os\n",
    "from joblib import dump, load \n",
    "from econml.orf import DMLOrthoForest \n",
    "from econml.dr import DRLearner, ForestDRLearner \n",
    "from sklearn.ensemble import GradientBoostingRegressor "
   ]
  },
  {
   "cell_type": "code",
   "execution_count": null,
   "id": "3eceed93",
   "metadata": {},
   "outputs": [],
   "source": []
  },
  {
   "cell_type": "code",
   "execution_count": 4,
   "id": "33e3cf5f",
   "metadata": {},
   "outputs": [],
   "source": [
    "def calc_score01(train_t1, test_data_t1):\n",
    "    trn = train_t1.reshape(-1, 1)\n",
    "    trn = pd.DataFrame(trn, columns=['effect1'])\n",
    "    tst = pd.DataFrame({'effect1': test_data_t1}) \n",
    "    trn_tst = pd.concat([trn, tst], axis=0, ignore_index=True) \n",
    "    target = pd.read_csv('./dataset/data/target.csv')\n",
    "    target = target.reset_index(drop=True)\n",
    "    result = pd.concat([target, trn_tst], axis=1) \n",
    "    def calc_metric(result):\n",
    "        r = np.sqrt(np.sum((result.ce_1 - result.effect1)**2)/result.shape[0])/result.ce_1.mean() \n",
    "        return r \n",
    "    return calc_metric(result) \n",
    "\n",
    "def calc_score02(train_t1, test_data_t1):\n",
    "    trn = train_t1.reshape(-1, 1)\n",
    "    trn = pd.DataFrame(trn, columns=['effect1'])\n",
    "    tst = pd.DataFrame({'effect1': test_data_t1}) \n",
    "    trn_tst = pd.concat([trn, tst], axis=0, ignore_index=True) \n",
    "    target = pd.read_csv('./dataset/data/target.csv')\n",
    "    target = target.reset_index(drop=True)\n",
    "    result = pd.concat([target, trn_tst], axis=1) \n",
    "    def calc_metric(result):\n",
    "        r = np.sqrt(np.sum((result.ce_2 - result.effect1)**2)/result.shape[0])/result.ce_2.mean() \n",
    "        return r \n",
    "    return calc_metric(result) \n",
    "\n",
    "\n",
    "def bayesGridSearchCVParams(X, Y, objective='regression', scoring=None):\n",
    "    \"\"\"  \n",
    "    model: lgbm\n",
    "    X, Y dtype: int, float, category\n",
    "    objective:  'regression': 传统的均方误差回归。\n",
    "                'regression_l1': 使用L1损失的回归，也称为 Mean Absolute Error (MAE)。\n",
    "                'huber': 使用Huber损失的回归，这是均方误差和绝对误差的结合，特别适用于有异常值的情况。\n",
    "                'fair': 使用Fair损失的回归，这也是另一种对异常值鲁棒的损失函数。\n",
    "                'binary', \n",
    "                'multiclass'\n",
    "    scoring:\n",
    "    'neg_root_mean_squared_error', 'precision_micro', 'jaccard_micro', 'f1_macro', \n",
    "    'recall_weighted', 'neg_mean_absolute_percentage_error', 'f1_weighted', \n",
    "    'completeness_score', 'neg_brier_score', 'neg_mean_gamma_deviance', 'precision', \n",
    "    'adjusted_mutual_info_score', 'f1_samples', 'jaccard', 'neg_mean_poisson_deviance', \n",
    "    'precision_samples', 'recall', 'recall_samples', 'top_k_accuracy', 'roc_auc_ovr', \n",
    "    'mutual_info_score', 'jaccard_samples', 'positive_likelihood_ratio', 'f1_micro', \n",
    "    'adjusted_rand_score', 'accuracy', 'matthews_corrcoef', 'neg_mean_squared_log_error', \n",
    "    'precision_macro', 'rand_score', 'neg_log_loss', 'recall_macro', 'roc_auc_ovo', \n",
    "    'average_precision', 'jaccard_weighted', 'max_error', 'neg_median_absolute_error', \n",
    "    'jaccard_macro', 'roc_auc_ovo_weighted', 'fowlkes_mallows_score', 'precision_weighted', \n",
    "    'balanced_accuracy', 'v_measure_score', 'recall_micro', 'normalized_mutual_info_score', \n",
    "    'neg_mean_squared_error', 'roc_auc', 'roc_auc_ovr_weighted', 'f1', 'homogeneity_score', \n",
    "    'explained_variance', 'r2', 'neg_mean_absolute_error', 'neg_negative_likelihood_ratio'\n",
    "    \"\"\" \n",
    "    if Y[Y.columns[0]].dtype in (np.float32, np.float64, np.int32, np.int64):\n",
    "        y_type = 'regression' if objective is None else objective\n",
    "    elif Y[Y.columns[0]].unique().shape[0]==2:\n",
    "        y_type = 'binary'\n",
    "    elif Y[Y.columns[0]].unique().shape[0] > 2:\n",
    "        y_type = 'multiclass'\n",
    "    else:\n",
    "        raise ValueError('确认Y的类别数')\n",
    "    print(y_type) \n",
    "    # grid \n",
    "    if y_type in ('multiclass', 'binary'): \n",
    "        params = {'boosting_type': 'gbdt', 'objective': y_type,\n",
    "                'class_weight': 'balanced', 'n_jobs': -1} \n",
    "        estimator = lgb.LGBMClassifier(**params) \n",
    "        param_grid = {'learning_rate': Real(0.01, 0.03), \n",
    "                      'n_estimators': Integer(500, 2000),\n",
    "                      'num_leaves': Integer(7, 31), \n",
    "                      'min_child_samples': Integer(3,  11), \n",
    "#                       'reg_alpha': Real(0.0, 0.1),\n",
    "                      'reg_lambda': Real(0, 0.1), \n",
    "                      'seed': Categorical([42])} \n",
    "    else:\n",
    "        params = {'boosting_type': 'gbdt',  'n_jobs': -1}\n",
    "        estimator = lgb.LGBMRegressor(**params) \n",
    "        param_grid = {'objective': Categorical(['regression', 'regression_l1', 'huber', 'fair']),\n",
    "                      'learning_rate': Real(0.01, 0.03), \n",
    "                      'n_estimators': Integer(1000, 4000),\n",
    "                      'num_leaves': Integer(10, 20),\n",
    "                      'min_child_samples': Integer(7, 20),\n",
    "#                       'reg_alpha': 0,\n",
    "#                       'reg_lambda': 0, \n",
    "                      'seed': Categorical([42])} \n",
    "    # search \n",
    "    grid = BayesSearchCV(estimator, param_grid, \n",
    "                         n_iter=300,\n",
    "                         cv=3, scoring = scoring, n_jobs=-1, verbose=0)\n",
    "    grid.fit(X, Y) \n",
    "    params.update(grid.best_params_)\n",
    "    print('Best parameters found by grid search are:', params)\n",
    "    return params \n",
    "\n"
   ]
  },
  {
   "cell_type": "code",
   "execution_count": 5,
   "id": "1fe3b53e",
   "metadata": {},
   "outputs": [
    {
     "data": {
      "text/plain": [
       "['T.csv', 'test.csv', 'X.csv', 'X_01.csv', 'X_02.csv', 'Y.csv']"
      ]
     },
     "execution_count": 5,
     "metadata": {},
     "output_type": "execute_result"
    }
   ],
   "source": [
    "os.listdir('./dataset/data/best/')"
   ]
  },
  {
   "cell_type": "code",
   "execution_count": 6,
   "id": "8e7ed35a",
   "metadata": {},
   "outputs": [],
   "source": [
    "X = pd.read_csv('./dataset/data/best/X.csv', index_col=0)\n",
    "X_01 = pd.read_csv('./dataset/data/best/X_01.csv', index_col=0)\n",
    "X_02 = pd.read_csv('./dataset/data/best/X_02.csv', index_col=0)\n",
    "test = pd.read_csv('./dataset/data/best/test.csv', index_col=0)\n",
    "\n",
    "T = pd.read_csv('./dataset/data/best/T.csv')\n",
    "Y = pd.read_csv('./dataset/data/best/Y.csv') \n",
    "T = T.astype(str).astype('category') \n",
    "\n",
    "X_T = pd.concat([X, T], axis=1) \n",
    "X_T_Y = pd.concat([X_T, Y], axis=1) \n",
    "\n",
    "T_01 = X_T_Y.loc[X_T_Y['T'].isin(['0', '1'])][['T']]\n",
    "Y_01 = X_T_Y.loc[X_T_Y['T'].isin(['0', '1'])][['Y']]\n",
    "\n",
    "T_02 = X_T_Y.loc[X_T_Y['T'].isin(['0', '2'])][['T']]\n",
    "Y_02 = X_T_Y.loc[X_T_Y['T'].isin(['0', '2'])][['Y']]\n",
    "\n",
    "T_02['T'] = T_02['T'].replace({'2': '1'}) \n",
    "\n",
    "X_T_01 = pd.concat([X_01, T_01], axis=1)\n",
    "X_T_02 = pd.concat([X_02, T_02], axis=1) \n",
    "\n",
    "T_01['T'] = T_01['T'].astype(np.int64)\n",
    "T_01 = np.array(T_01['T'])\n",
    "T_02['T'] = T_02['T'].astype(np.int64)\n",
    "T_02 = T_02.values.reshape(-1)\n",
    "\n",
    "X_T_01['T'] = X_T_01['T'].astype(np.int64) \n",
    "X_Y_01 = pd.concat((X_01, Y_01), axis=1)"
   ]
  },
  {
   "cell_type": "code",
   "execution_count": 7,
   "id": "767ddbcf",
   "metadata": {},
   "outputs": [],
   "source": [
    "X_01_BAL = X_01\n",
    "T_01_BAL = T_01\n",
    "Y_01_BAL = Y_01 \n",
    "X_T_01_BAL = pd.concat((X_01_BAL.reset_index(drop=True), pd.DataFrame({\"T\":T_01_BAL})), axis=1)"
   ]
  },
  {
   "cell_type": "code",
   "execution_count": 8,
   "id": "7affa177",
   "metadata": {},
   "outputs": [],
   "source": [
    "X_02_BAL = X_02\n",
    "T_02_BAL = T_02\n",
    "Y_02_BAL = Y_02 \n",
    "X_T_02_BAL = pd.concat((X_02_BAL.reset_index(drop=True), pd.DataFrame({\"T\":T_02_BAL})), axis=1)"
   ]
  },
  {
   "cell_type": "code",
   "execution_count": null,
   "id": "0c5b46e1",
   "metadata": {},
   "outputs": [],
   "source": []
  },
  {
   "cell_type": "code",
   "execution_count": null,
   "id": "7e0526ce",
   "metadata": {
    "scrolled": false
   },
   "outputs": [],
   "source": [
    "# para_XT01 = bayesGridSearchCVParams(X_01_BAL, pd.DataFrame(T_01_BAL), objective='binary', scoring='roc_auc_ovr_weighted')\n",
    "para_XT01 = {'boosting_type': 'gbdt', 'objective': 'binary', 'class_weight': 'balanced', 'n_jobs': -1, 'learning_rate': 0.03, 'min_child_samples': 7, 'n_estimators': 500, 'num_leaves': 7, 'reg_lambda': 0.05, 'seed': 42}\n",
    "mdl_t01 = lgb.LGBMClassifier(**para_XT01) \n",
    "# binary\n",
    "# Best parameters found by grid search are: {'boosting_type': 'gbdt', 'objective': 'binary', 'class_weight': 'balanced', 'n_jobs': -1, 'learning_rate': 0.03, 'min_child_samples': 7, 'n_estimators': 500, 'num_leaves': 7, 'reg_lambda': 0.05, 'seed': 42}"
   ]
  },
  {
   "cell_type": "code",
   "execution_count": 81,
   "id": "a3fb9c07",
   "metadata": {},
   "outputs": [],
   "source": [
    "# para_XTY01 = bayesGridSearchCVParams(X_T_01_BAL, Y_01_BAL, objective='regression', scoring='neg_root_mean_squared_error')\n",
    "para_XTY01 = {'boosting_type': 'gbdt', 'n_jobs': -1, 'learning_rate': 0.05, 'min_child_samples': 20, 'n_estimators': 3000, 'num_leaves': 7, 'objective': 'regression', 'reg_lambda': 0.01, 'seed': 42}\n",
    "mdl_y01 = lgb.LGBMRegressor(**para_XTY01) \n",
    "# regression\n",
    "# Best parameters found by grid search are: {'boosting_type': 'gbdt', 'n_jobs': -1, 'learning_rate': 0.05, 'min_child_samples': 20, 'n_estimators': 3000, 'num_leaves': 7, 'objective': 'regression', 'reg_lambda': 0.01, 'seed': 42}"
   ]
  },
  {
   "cell_type": "code",
   "execution_count": null,
   "id": "acd1af13",
   "metadata": {},
   "outputs": [],
   "source": []
  },
  {
   "cell_type": "code",
   "execution_count": 87,
   "id": "68645508",
   "metadata": {
    "scrolled": true
   },
   "outputs": [
    {
     "name": "stdout",
     "output_type": "stream",
     "text": [
      "{'n_estimators': 500, 'min_leaf_size': 60, 'max_depth': 8, 'subsample_ratio': 0.35, 'min_balance': 0.45, 'max_feat': 0.9} 0.36057932254417746\n"
     ]
    }
   ],
   "source": [
    "n_estimators_list = [500]# fitted\n",
    "min_leaf_size_list = [60]# 20-90\n",
    "subsample_ratio_list = [0.35]#fiteed\n",
    "max_depth_list = [8]#fitted \n",
    "max_features_list = [0.9]# fitted\n",
    "min_balancedness_tol_list = [0.45]#fitted, 0.4, 0.35, 0.3]\n",
    "for n_est in n_estimators_list: \n",
    "    for min_leaf in min_leaf_size_list:\n",
    "        for subsample_ratio in subsample_ratio_list:\n",
    "            for max_dep in max_depth_list:\n",
    "                for min_balance in min_balancedness_tol_list:\n",
    "                    for max_feat in max_features_list:\n",
    "                        para_tmp = {'n_estimators': n_est, \n",
    "                                   'min_leaf_size': min_leaf, \n",
    "                                   'max_depth': max_dep, \n",
    "                                   'subsample_ratio': subsample_ratio, \n",
    "                                   'min_balance': min_balance, \n",
    "                                   'max_feat': max_feat} \n",
    "                    # 01 \n",
    "                        est01 = ForestDRLearner(\n",
    "                                        model_regression=mdl_y01, \n",
    "                                        model_propensity=mdl_t01, \n",
    "                                        featurizer=None, \n",
    "                                        min_propensity=1e-06, \n",
    "                                        categories=[0, 1], \n",
    "                                        cv=2,\n",
    "                                        mc_iters=4,\n",
    "                                        mc_agg='mean', \n",
    "                                        n_estimators=n_est, \n",
    "                                        max_depth=max_dep, \n",
    "#                                         min_samples_split=5, \n",
    "                                        min_samples_leaf=min_leaf, \n",
    "#                                         min_weight_fraction_leaf=0.0, \n",
    "                                        max_features=max_feat, \n",
    "#                                         min_impurity_decrease=0.0, \n",
    "                                        max_samples=subsample_ratio, \n",
    "                                        min_balancedness_tol=min_balance, \n",
    "                                        honest=True, \n",
    "                                        subforest_size=4, \n",
    "                                        n_jobs = -1, \n",
    "                                        verbose=0, \n",
    "                                        random_state=0)\n",
    "                    \n",
    "                        # fit\n",
    "                        est01.fit(Y=Y_01_BAL, T=T_01_BAL, X=X_01_BAL)\n",
    "                        # effect\n",
    "                        test_t01 = est01.effect(X=test, T0=0, T1=1) \n",
    "                        X_t01 = est01.effect(X=X, T0=0, T1=1)\n",
    "                        print(para_tmp, calc_score(X_t01.reshape(-1), test_t01.reshape(-1)))\n"
   ]
  },
  {
   "cell_type": "code",
   "execution_count": null,
   "id": "a13f8464",
   "metadata": {},
   "outputs": [],
   "source": [
    "# {'n_estimators': 500, 'min_leaf_size': 80, 'max_depth': 7, 'subsample_ratio': 0.35, \n",
    "#  'min_balance': 0.45, 'max_feat': 0.9} 0.37243761942135306"
   ]
  },
  {
   "cell_type": "code",
   "execution_count": 93,
   "id": "b6f649ca",
   "metadata": {},
   "outputs": [],
   "source": [
    "# pd.DataFrame(X_t01,columns=['X_t01']).to_csv('./dataset/model/forestDRlearner/X_t01.csv',index=False) \n",
    "# pd.DataFrame(test_t01,columns=['test_t01']).to_csv('./dataset/model/forestDRlearner/test_t01.csv',index=False)  "
   ]
  },
  {
   "cell_type": "code",
   "execution_count": null,
   "id": "20a88725",
   "metadata": {},
   "outputs": [],
   "source": [
    "# 0.36  {'n_estimators': 500, 'min_leaf_size': 60, 'max_depth': 8, 'subsample_ratio': 0.35, 'min_balance': 0.45, 'max_feat': 0.9} 0.36057932254417746"
   ]
  },
  {
   "cell_type": "code",
   "execution_count": 96,
   "id": "79f1a20c",
   "metadata": {},
   "outputs": [
    {
     "data": {
      "text/plain": [
       "['./dataset/model/forestDRlearner/est01.joblib']"
      ]
     },
     "execution_count": 96,
     "metadata": {},
     "output_type": "execute_result"
    }
   ],
   "source": [
    "# from joblib import dump\n",
    "# dump(est01, './dataset/model/forestDRlearner/est01.joblib')"
   ]
  },
  {
   "cell_type": "code",
   "execution_count": null,
   "id": "f9a49864",
   "metadata": {},
   "outputs": [],
   "source": []
  },
  {
   "cell_type": "markdown",
   "id": "d1baaabd",
   "metadata": {},
   "source": [
    "##### est02"
   ]
  },
  {
   "cell_type": "code",
   "execution_count": 114,
   "id": "4888931e",
   "metadata": {},
   "outputs": [
    {
     "name": "stdout",
     "output_type": "stream",
     "text": [
      "binary\n",
      "Best parameters found by grid search are: {'boosting_type': 'gbdt', 'objective': 'binary', 'class_weight': 'balanced', 'n_jobs': -1, 'learning_rate': 0.01, 'min_child_samples': 3, 'n_estimators': 500, 'num_leaves': 7, 'reg_lambda': 0, 'seed': 42}\n"
     ]
    }
   ],
   "source": [
    "para_XT02 = bayesGridSearchCVParams(X_02_BAL, pd.DataFrame(T_02_BAL), \n",
    "                                    objective='binary', scoring='roc_auc_ovr_weighted')\n",
    "mdl_t02 = lgb.LGBMClassifier(**para_XT02) "
   ]
  },
  {
   "cell_type": "code",
   "execution_count": 115,
   "id": "2cff710e",
   "metadata": {
    "scrolled": true
   },
   "outputs": [
    {
     "name": "stdout",
     "output_type": "stream",
     "text": [
      "regression\n",
      "Best parameters found by grid search are: {'boosting_type': 'gbdt', 'n_jobs': -1, 'learning_rate': 0.05, 'min_child_samples': 20, 'n_estimators': 3000, 'num_leaves': 7, 'objective': 'regression', 'reg_lambda': 0.05, 'seed': 42}\n"
     ]
    }
   ],
   "source": [
    "para_XTY02 = bayesGridSearchCVParams(X_T_02_BAL, Y_02_BAL, \n",
    "                                     objective='regression', scoring='neg_root_mean_squared_error')\n",
    "mdl_y02 = lgb.LGBMRegressor(**para_XTY02) "
   ]
  },
  {
   "cell_type": "code",
   "execution_count": 137,
   "id": "dd8db718",
   "metadata": {},
   "outputs": [
    {
     "name": "stdout",
     "output_type": "stream",
     "text": [
      "{'n_estimators': 300, 'min_leaf_size': 20, 'max_depth': 12, 'subsample_ratio': 0.33, 'min_balance': 0.45, 'max_feat': 0.9} 0.05430872390981582\n"
     ]
    }
   ],
   "source": [
    "n_estimators_list = [300]# fitted\n",
    "min_leaf_size_list = [20]# 20-90?\n",
    "subsample_ratio_list = [0.33]#fiteed\n",
    "max_depth_list = [12]#fitted \n",
    "max_features_list = [0.9]# fitted\n",
    "min_balancedness_tol_list = [0.45]#fitted, 0.4, 0.35, 0.3]\n",
    "for n_est in n_estimators_list: \n",
    "    for min_leaf in min_leaf_size_list:\n",
    "        for subsample_ratio in subsample_ratio_list:\n",
    "            for max_dep in max_depth_list:\n",
    "                for min_balance in min_balancedness_tol_list:\n",
    "                    for max_feat in max_features_list:\n",
    "                        para_tmp = {'n_estimators': n_est, \n",
    "                                   'min_leaf_size': min_leaf, \n",
    "                                   'max_depth': max_dep, \n",
    "                                   'subsample_ratio': subsample_ratio, \n",
    "                                   'min_balance': min_balance, \n",
    "                                   'max_feat': max_feat} \n",
    "                    # 01 \n",
    "                        est02 = ForestDRLearner(\n",
    "                                        model_regression=mdl_y02, \n",
    "                                        model_propensity=mdl_t02, \n",
    "                                        featurizer=None, \n",
    "                                        min_propensity=1e-06, \n",
    "                                        categories=[0, 1], \n",
    "                                        cv=2,\n",
    "                                        mc_iters=5,\n",
    "                                        mc_agg='mean', \n",
    "                                        n_estimators=n_est, \n",
    "                                        max_depth=max_dep, \n",
    "#                                         min_samples_split=5, \n",
    "                                        min_samples_leaf=min_leaf, \n",
    "#                                         min_weight_fraction_leaf=0.0, \n",
    "                                        max_features=max_feat, \n",
    "#                                         min_impurity_decrease=0.0, \n",
    "                                        max_samples=subsample_ratio, \n",
    "                                        min_balancedness_tol=min_balance, \n",
    "                                        honest=True, \n",
    "                                        subforest_size=4, \n",
    "                                        n_jobs = -1, \n",
    "                                        verbose=0, \n",
    "                                        random_state=0)\n",
    "                    \n",
    "                        # fit\n",
    "                        est02.fit(Y=Y_02_BAL, T=T_02_BAL, X=X_02_BAL)\n",
    "                        # effect\n",
    "                        test_t02 = est02.effect(X=test, T0=0, T1=1) \n",
    "                        X_t02 = est02.effect(X=X, T0=0, T1=1)\n",
    "                        print(para_tmp, calc_score02(X_t02.reshape(-1), test_t02.reshape(-1)))\n"
   ]
  },
  {
   "cell_type": "code",
   "execution_count": 138,
   "id": "dfea7bdd",
   "metadata": {},
   "outputs": [],
   "source": [
    "# pd.DataFrame(X_t02, columns=['X_t02']).to_csv('./dataset/model/forestDRlearner/X_t02.csv',index=False) \n",
    "# pd.DataFrame(test_t02, columns=['test_t02']).to_csv('./dataset/model/forestDRlearner/test_t02.csv',index=False) "
   ]
  },
  {
   "cell_type": "code",
   "execution_count": 139,
   "id": "f5008845",
   "metadata": {},
   "outputs": [
    {
     "data": {
      "text/plain": [
       "['./dataset/model/forestDRlearner/est02.joblib']"
      ]
     },
     "execution_count": 139,
     "metadata": {},
     "output_type": "execute_result"
    }
   ],
   "source": [
    "# from joblib import dump\n",
    "# dump(est02, './dataset/model/forestDRlearner/est02.joblib')"
   ]
  },
  {
   "cell_type": "code",
   "execution_count": null,
   "id": "9c30bff0",
   "metadata": {},
   "outputs": [],
   "source": []
  },
  {
   "cell_type": "code",
   "execution_count": null,
   "id": "f95d1e74",
   "metadata": {},
   "outputs": [],
   "source": []
  },
  {
   "cell_type": "code",
   "execution_count": null,
   "id": "b2b4431d",
   "metadata": {},
   "outputs": [],
   "source": []
  },
  {
   "cell_type": "code",
   "execution_count": null,
   "id": "36747697",
   "metadata": {},
   "outputs": [],
   "source": []
  }
 ],
 "metadata": {
  "kernelspec": {
   "display_name": "econml",
   "language": "python",
   "name": "econml"
  },
  "language_info": {
   "codemirror_mode": {
    "name": "ipython",
    "version": 3
   },
   "file_extension": ".py",
   "mimetype": "text/x-python",
   "name": "python",
   "nbconvert_exporter": "python",
   "pygments_lexer": "ipython3",
   "version": "3.9.17"
  },
  "nbTranslate": {
   "displayLangs": [
    "*"
   ],
   "hotkey": "alt-t",
   "langInMainMenu": true,
   "sourceLang": "en",
   "targetLang": "fr",
   "useGoogleTranslate": true
  },
  "varInspector": {
   "cols": {
    "lenName": 16,
    "lenType": 16,
    "lenVar": 40
   },
   "kernels_config": {
    "python": {
     "delete_cmd_postfix": "",
     "delete_cmd_prefix": "del ",
     "library": "var_list.py",
     "varRefreshCmd": "print(var_dic_list())"
    },
    "r": {
     "delete_cmd_postfix": ") ",
     "delete_cmd_prefix": "rm(",
     "library": "var_list.r",
     "varRefreshCmd": "cat(var_dic_list()) "
    }
   },
   "types_to_exclude": [
    "module",
    "function",
    "builtin_function_or_method",
    "instance",
    "_Feature"
   ],
   "window_display": false
  }
 },
 "nbformat": 4,
 "nbformat_minor": 5
}
